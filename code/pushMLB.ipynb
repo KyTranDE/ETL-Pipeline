{
 "cells": [
  {
   "cell_type": "markdown",
   "metadata": {},
   "source": [
    "# Config for database"
   ]
  },
  {
   "cell_type": "code",
   "execution_count": 1,
   "metadata": {},
   "outputs": [
    {
     "name": "stdout",
     "output_type": "stream",
     "text": [
      "ec2-47-128-220-12.ap-southeast-1.compute.amazonaws.com\n"
     ]
    }
   ],
   "source": [
    "from Utils import postgres_tool as postgres\n",
    "import configparser\n",
    "import os\n",
    "\n",
    "config = configparser.ConfigParser()\n",
    "config.read('./config/config.ini')\n",
    "db_host = config['database_sv']['DB_SV_HOSTS']\n",
    "db_port = config['database_sv'].getint('DB_SV_PORT')\n",
    "db_username = config['database_sv']['DB_SV_USER']\n",
    "db_password = config['database_sv']['DB_SV_PASSWORD']\n",
    "db_database = config['database_sv']['DB_SV_DATABASE']\n",
    "print(db_host )"
   ]
  },
  {
   "cell_type": "code",
   "execution_count": 23,
   "metadata": {},
   "outputs": [
    {
     "data": {
      "text/plain": [
       "{'host': 'ec2-47-128-220-12.ap-southeast-1.compute.amazonaws.com',\n",
       " 'port': '5432',\n",
       " 'user': 'postgres',\n",
       " 'password': 'postgres',\n",
       " 'database': 'dbBBSW'}"
      ]
     },
     "execution_count": 23,
     "metadata": {},
     "output_type": "execute_result"
    }
   ],
   "source": [
    "import yaml\n",
    "# /home/bbsw/bbsw/config/config.yml\n",
    "database = yaml.load(open('./config/config.yml', 'r'), Loader=yaml.FullLoader)['database_sv']\n",
    "database"
   ]
  },
  {
   "cell_type": "markdown",
   "metadata": {},
   "source": [
    "# conectDB"
   ]
  },
  {
   "cell_type": "code",
   "execution_count": 2,
   "metadata": {},
   "outputs": [],
   "source": [
    "\n",
    "conn = postgres.PostgresTool(db_host, db_username, db_port, db_password, db_database)"
   ]
  },
  {
   "cell_type": "code",
   "execution_count": 3,
   "metadata": {},
   "outputs": [
    {
     "data": {
      "text/plain": [
       "['date_id',\n",
       " 'prediction',\n",
       " 'team',\n",
       " 'match',\n",
       " 'expert_ou',\n",
       " 'sport',\n",
       " 'expert_ats',\n",
       " 'users']"
      ]
     },
     "execution_count": 3,
     "metadata": {},
     "output_type": "execute_result"
    }
   ],
   "source": [
    "conn.get_all_table()"
   ]
  },
  {
   "cell_type": "code",
   "execution_count": 18,
   "metadata": {},
   "outputs": [
    {
     "name": "stdout",
     "output_type": "stream",
     "text": [
      "{'match_id': 9057.0, 'home_prediction': 4.5343954364, 'away_prediction': 4.1888387005, 'point_total_prediction': 9.1102268769}\n",
      "{'match_id': 9058.0, 'home_prediction': 4.0340173547, 'away_prediction': 5.6489920508, 'point_total_prediction': 10.052482115}\n",
      "{'match_id': 9059.0, 'home_prediction': 4.726283267, 'away_prediction': 5.6367350744, 'point_total_prediction': 9.9794401007}\n",
      "{'match_id': 9060.0, 'home_prediction': 4.5620213626, 'away_prediction': 5.6008753445, 'point_total_prediction': 10.1567081222}\n",
      "{'match_id': 9061.0, 'home_prediction': 4.8277466574, 'away_prediction': 5.1987595028, 'point_total_prediction': 10.4286464}\n",
      "{'match_id': 9062.0, 'home_prediction': 4.7431849111, 'away_prediction': 2.7641854194, 'point_total_prediction': 7.048789579}\n",
      "{'match_id': 9063.0, 'home_prediction': 4.8348341713, 'away_prediction': 3.3393930375, 'point_total_prediction': 8.2462544447}\n",
      "{'match_id': 9064.0, 'home_prediction': 4.0899238279, 'away_prediction': 2.7826608705, 'point_total_prediction': 6.8701363999}\n",
      "{'match_id': 9065.0, 'home_prediction': 4.6540401613, 'away_prediction': 4.8262521044, 'point_total_prediction': 10.4879306495}\n",
      "{'match_id': 9066.0, 'home_prediction': 4.7295351477, 'away_prediction': 6.8253542811, 'point_total_prediction': 12.1909439814}\n",
      "{'match_id': 9067.0, 'home_prediction': 5.6016113414, 'away_prediction': 5.4472495028, 'point_total_prediction': 11.8440350636}\n",
      "{'match_id': 9068.0, 'home_prediction': 0.0, 'away_prediction': 0.0, 'point_total_prediction': 0.0}\n",
      "{'match_id': 9069.0, 'home_prediction': 3.0623111857, 'away_prediction': 5.9956788631, 'point_total_prediction': 9.1697570164}\n",
      "{'match_id': 9070.0, 'home_prediction': 6.4028069523, 'away_prediction': 5.279191158, 'point_total_prediction': 11.4002411896}\n",
      "{'match_id': 9071.0, 'home_prediction': 3.043657456, 'away_prediction': 6.0416673981, 'point_total_prediction': 9.7408598626}\n",
      "{'match_id': 9080.0, 'home_prediction': 4.6540401613, 'away_prediction': 4.8262521044, 'point_total_prediction': 10.4879306495}\n",
      "{'match_id': 9072.0, 'home_prediction': 4.7431849111, 'away_prediction': 2.7641854194, 'point_total_prediction': 7.048789579}\n",
      "{'match_id': 9073.0, 'home_prediction': 4.8277466574, 'away_prediction': 5.1987595028, 'point_total_prediction': 10.4286464}\n",
      "{'match_id': 9074.0, 'home_prediction': 3.0623111857, 'away_prediction': 5.9956788631, 'point_total_prediction': 9.1697570164}\n",
      "{'match_id': 9075.0, 'home_prediction': 4.5343954364, 'away_prediction': 4.1888387005, 'point_total_prediction': 9.1102268769}\n",
      "{'match_id': 9076.0, 'home_prediction': 4.0340173547, 'away_prediction': 5.6489920508, 'point_total_prediction': 10.052482115}\n",
      "{'match_id': 9077.0, 'home_prediction': 4.5620213626, 'away_prediction': 5.6008753445, 'point_total_prediction': 10.1567081222}\n",
      "{'match_id': 9078.0, 'home_prediction': 4.7295351477, 'away_prediction': 6.8253542811, 'point_total_prediction': 12.1909439814}\n",
      "{'match_id': 9079.0, 'home_prediction': 4.0899238279, 'away_prediction': 2.7826608705, 'point_total_prediction': 6.8701363999}\n",
      "{'match_id': 9043.0, 'home_prediction': 5.6016113414, 'away_prediction': 5.4472495028, 'point_total_prediction': 11.8440350636}\n",
      "{'match_id': 9081.0, 'home_prediction': 5.6016113414, 'away_prediction': 5.4472495028, 'point_total_prediction': 11.8440350636}\n",
      "{'match_id': 9044.0, 'home_prediction': 4.8277466574, 'away_prediction': 5.1987595028, 'point_total_prediction': 10.4286464}\n",
      "{'match_id': 9082.0, 'home_prediction': 4.8348341713, 'away_prediction': 3.3393930375, 'point_total_prediction': 8.2462544447}\n",
      "{'match_id': 9045.0, 'home_prediction': 4.7431849111, 'away_prediction': 2.7641854194, 'point_total_prediction': 7.048789579}\n",
      "{'match_id': 9083.0, 'home_prediction': 6.4028069523, 'away_prediction': 5.279191158, 'point_total_prediction': 11.4002411896}\n",
      "{'match_id': 9046.0, 'home_prediction': 4.5343954364, 'away_prediction': 4.1888387005, 'point_total_prediction': 9.1102268769}\n",
      "{'match_id': 9084.0, 'home_prediction': 4.726283267, 'away_prediction': 5.6367350744, 'point_total_prediction': 9.9794401007}\n",
      "{'match_id': 9047.0, 'home_prediction': 4.0340173547, 'away_prediction': 5.6489920508, 'point_total_prediction': 10.052482115}\n",
      "{'match_id': 9086.0, 'home_prediction': 3.043657456, 'away_prediction': 6.0416673981, 'point_total_prediction': 9.7408598626}\n",
      "{'match_id': 9048.0, 'home_prediction': 4.5620213626, 'away_prediction': 5.6008753445, 'point_total_prediction': 10.1567081222}\n",
      "{'match_id': 9085.0, 'home_prediction': 0.0, 'away_prediction': 0.0, 'point_total_prediction': 0.0}\n",
      "{'match_id': 9049.0, 'home_prediction': 4.7295351477, 'away_prediction': 6.8253542811, 'point_total_prediction': 12.1909439814}\n",
      "{'match_id': 9087.0, 'home_prediction': 4.5343954364, 'away_prediction': 4.1888387005, 'point_total_prediction': 9.1102268769}\n",
      "{'match_id': 9050.0, 'home_prediction': 3.0623111857, 'away_prediction': 5.9956788631, 'point_total_prediction': 9.1697570164}\n",
      "{'match_id': 9088.0, 'home_prediction': 4.8834572922, 'away_prediction': 3.1155456449, 'point_total_prediction': 8.0151229046}\n",
      "{'match_id': 9051.0, 'home_prediction': 4.8348341713, 'away_prediction': 3.3393930375, 'point_total_prediction': 8.2462544447}\n",
      "{'match_id': 9089.0, 'home_prediction': 4.5620213626, 'away_prediction': 5.6008753445, 'point_total_prediction': 10.1567081222}\n",
      "{'match_id': 9052.0, 'home_prediction': 4.0899238279, 'away_prediction': 2.7826608705, 'point_total_prediction': 6.8701363999}\n",
      "{'match_id': 9090.0, 'home_prediction': 3.52872364, 'away_prediction': 11.2106511384, 'point_total_prediction': 13.4779487043}\n",
      "{'match_id': 9053.0, 'home_prediction': 6.4028069523, 'away_prediction': 5.279191158, 'point_total_prediction': 11.4002411896}\n",
      "{'match_id': 9091.0, 'home_prediction': 4.3012806405, 'away_prediction': 4.3957382992, 'point_total_prediction': 9.0472962817}\n",
      "{'match_id': 9054.0, 'home_prediction': 4.726283267, 'away_prediction': 5.6367350744, 'point_total_prediction': 9.9794401007}\n",
      "{'match_id': 9092.0, 'home_prediction': 6.2724206962, 'away_prediction': 5.4822804007, 'point_total_prediction': 12.2450042702}\n",
      "{'match_id': 9055.0, 'home_prediction': 0.0, 'away_prediction': 0.0, 'point_total_prediction': 0.0}\n",
      "{'match_id': 9093.0, 'home_prediction': 5.9340675292, 'away_prediction': 6.0387435869, 'point_total_prediction': 12.0998931588}\n",
      "{'match_id': 9056.0, 'home_prediction': 3.043657456, 'away_prediction': 6.0416673981, 'point_total_prediction': 9.7408598626}\n",
      "{'match_id': 9094.0, 'home_prediction': 4.0884280721, 'away_prediction': 6.0723635772, 'point_total_prediction': 10.791244655}\n",
      "{'match_id': 9095.0, 'home_prediction': 4.4141822406, 'away_prediction': 3.8641659416, 'point_total_prediction': 7.5607508862}\n",
      "{'match_id': 9096.0, 'home_prediction': 0.0, 'away_prediction': 0.0, 'point_total_prediction': 0.0}\n",
      "{'match_id': 9097.0, 'home_prediction': 4.8139040155, 'away_prediction': 5.1815320015, 'point_total_prediction': 10.3969903761}\n",
      "{'match_id': 9098.0, 'home_prediction': 4.0747533805, 'away_prediction': 6.2575229812, 'point_total_prediction': 10.4749143276}\n",
      "{'match_id': 9099.0, 'home_prediction': 3.1463405123, 'away_prediction': 3.8057928193, 'point_total_prediction': 7.2718479031}\n",
      "{'match_id': 9100.0, 'home_prediction': 0.0, 'away_prediction': 0.0, 'point_total_prediction': 0.0}\n",
      "{'match_id': 9101.0, 'home_prediction': 4.8834572922, 'away_prediction': 3.1155456449, 'point_total_prediction': 8.0151229046}\n",
      "{'match_id': 9102.0, 'home_prediction': 3.52872364, 'away_prediction': 11.2106511384, 'point_total_prediction': 13.4779487043}\n",
      "{'match_id': 9103.0, 'home_prediction': 4.715831021, 'away_prediction': 5.0819020222, 'point_total_prediction': 9.6973828917}\n",
      "{'match_id': 9104.0, 'home_prediction': 4.4386578492, 'away_prediction': 4.8484425654, 'point_total_prediction': 8.9041258466}\n",
      "{'match_id': 9105.0, 'home_prediction': 4.3063485233, 'away_prediction': 5.7789520014, 'point_total_prediction': 10.6498604948}\n",
      "{'match_id': 9106.0, 'home_prediction': 4.3012806405, 'away_prediction': 4.3957382992, 'point_total_prediction': 9.0472962817}\n",
      "{'match_id': 9107.0, 'home_prediction': 6.2724206962, 'away_prediction': 5.4822804007, 'point_total_prediction': 12.2450042702}\n",
      "{'match_id': 9108.0, 'home_prediction': 5.9340675292, 'away_prediction': 6.0387435869, 'point_total_prediction': 12.0998931588}\n",
      "{'match_id': 9109.0, 'home_prediction': 4.0884280721, 'away_prediction': 6.0723635772, 'point_total_prediction': 10.791244655}\n",
      "{'match_id': 9110.0, 'home_prediction': 4.4141822406, 'away_prediction': 3.8641659416, 'point_total_prediction': 7.5607508862}\n",
      "{'match_id': 9111.0, 'home_prediction': 0.0, 'away_prediction': 0.0, 'point_total_prediction': 0.0}\n",
      "{'match_id': 9112.0, 'home_prediction': 4.8139040155, 'away_prediction': 5.1815320015, 'point_total_prediction': 10.3969903761}\n",
      "{'match_id': 9113.0, 'home_prediction': 4.0747533805, 'away_prediction': 6.2575229812, 'point_total_prediction': 10.4749143276}\n",
      "{'match_id': 9114.0, 'home_prediction': 3.1463405123, 'away_prediction': 3.8057928193, 'point_total_prediction': 7.2718479031}\n"
     ]
    }
   ],
   "source": [
    "import pandas as pd \n",
    "\n",
    "data = pd.read_csv('./data/prediction.csv')\n",
    "\n",
    "for i in range(len(data)):\n",
    "    print(data.iloc[i].to_dict())\n",
    "    conn.push_data('prediction', data.iloc[i].to_dict())\n"
   ]
  },
  {
   "cell_type": "code",
   "execution_count": 19,
   "metadata": {},
   "outputs": [],
   "source": [
    "conn.close()"
   ]
  },
  {
   "cell_type": "markdown",
   "metadata": {},
   "source": [
    "# Use os file csv"
   ]
  },
  {
   "cell_type": "code",
   "execution_count": 9,
   "metadata": {},
   "outputs": [
    {
     "name": "stdout",
     "output_type": "stream",
     "text": [
      "./db/date_id.csv\n",
      "./db/team.csv\n",
      "./db/match.csv\n",
      "./db/sport.csv\n",
      "./db/prediction.csv\n",
      "./db/season.csv\n"
     ]
    }
   ],
   "source": [
    "import numpy as np \n",
    "import pandas as pd \n",
    "\n",
    "import os\n",
    "for dirname, _, filenames in os.walk('./db'):\n",
    "    for filename in filenames:\n",
    "        print(os.path.join(dirname, filename))"
   ]
  },
  {
   "cell_type": "markdown",
   "metadata": {},
   "source": [
    "# Insert data for database"
   ]
  },
  {
   "cell_type": "code",
   "execution_count": 10,
   "metadata": {},
   "outputs": [],
   "source": [
    "# conn.insert_data('./db\\sport.csv')\n"
   ]
  },
  {
   "cell_type": "code",
   "execution_count": 11,
   "metadata": {},
   "outputs": [],
   "source": [
    "# conn.insert_data('./db/team.csv')\n"
   ]
  },
  {
   "cell_type": "code",
   "execution_count": 12,
   "metadata": {},
   "outputs": [],
   "source": [
    "# conn.insert_data('./db/date_id.csv')\n"
   ]
  },
  {
   "cell_type": "code",
   "execution_count": 13,
   "metadata": {},
   "outputs": [],
   "source": [
    "# conn.insert_data('./db/season.csv')"
   ]
  },
  {
   "cell_type": "code",
   "execution_count": 14,
   "metadata": {},
   "outputs": [],
   "source": [
    "# conn.insert_data('./db/date_id.csv')"
   ]
  },
  {
   "cell_type": "code",
   "execution_count": 15,
   "metadata": {},
   "outputs": [],
   "source": [
    "# conn.insert_data('./db/match.csv')\n"
   ]
  },
  {
   "cell_type": "code",
   "execution_count": 16,
   "metadata": {},
   "outputs": [],
   "source": [
    "# conn.insert_data('./db/prediction.csv')\n"
   ]
  },
  {
   "cell_type": "code",
   "execution_count": 18,
   "metadata": {},
   "outputs": [
    {
     "name": "stdout",
     "output_type": "stream",
     "text": [
      "84\n",
      "313\n"
     ]
    }
   ],
   "source": [
    "from datetime import datetime\n",
    "import pytz\n",
    "def get_us_date(timezone_name='US/Eastern'):\n",
    "    us_timezone = pytz.timezone(timezone_name)\n",
    "    utc_now = datetime.now(pytz.utc)\n",
    "    us_now = utc_now.astimezone(us_timezone)\n",
    "    return us_now.strftime('%Y-%m-%d')\n",
    "CURRENT_DATE_US = get_us_date()\n",
    "sport_id = \"mlb\"\n",
    "query = f\"SELECT idx,   id FROM date_id WHERE date_play = '{CURRENT_DATE_US}' AND sport_id = '{sport_id}' AND season = '2024'\"\n",
    "idx = conn.query(query, False)[0][0]\n",
    "id_idx = conn.query(query, False)[0][1]\n",
    "print(idx)\n",
    "print(id_idx)"
   ]
  },
  {
   "cell_type": "code",
   "execution_count": 19,
   "metadata": {},
   "outputs": [
    {
     "data": {
      "text/plain": [
       "[('Not Ascending',)]"
      ]
     },
     "execution_count": 19,
     "metadata": {},
     "output_type": "execute_result"
    }
   ],
   "source": [
    "querys1 = \"\"\"SELECT CASE\n",
    "    WHEN MAX(id) = COUNT(id) THEN 'Ascending'\n",
    "    ELSE 'Not Ascending'\n",
    "END AS result\n",
    "FROM (\n",
    "    SELECT id, ROW_NUMBER() OVER (ORDER BY id) AS rn\n",
    "    FROM \"match\" \n",
    ") subquery\n",
    "WHERE id <> rn;\n",
    "\"\"\"\n",
    "\n",
    "conn.query(querys1, False)[0][0]"
   ]
  },
  {
   "cell_type": "code",
   "execution_count": 22,
   "metadata": {},
   "outputs": [
    {
     "data": {
      "text/plain": [
       "[('oid',),\n",
       " ('oid',),\n",
       " ('attrelid',),\n",
       " ('oid',),\n",
       " ('oid',),\n",
       " ('oid',),\n",
       " ('inhrelid',),\n",
       " ('indexrelid',),\n",
       " ('oid',),\n",
       " ('oid',),\n",
       " ('oid',),\n",
       " ('oid',),\n",
       " ('oid',),\n",
       " ('oid',),\n",
       " ('oid',),\n",
       " ('oid',),\n",
       " ('loid',),\n",
       " ('aggfnoid',),\n",
       " ('starelid',),\n",
       " ('oid',),\n",
       " ('stxoid',),\n",
       " ('oid',),\n",
       " ('oid',),\n",
       " ('oid',),\n",
       " ('objoid',),\n",
       " ('oid',),\n",
       " ('oid',),\n",
       " ('oid',),\n",
       " ('oid',),\n",
       " ('classid',),\n",
       " ('oid',),\n",
       " ('setdatabase',),\n",
       " ('oid',),\n",
       " ('oid',),\n",
       " ('oid',),\n",
       " ('dbid',),\n",
       " ('objoid',),\n",
       " ('oid',),\n",
       " ('mapcfg',),\n",
       " ('oid',),\n",
       " ('oid',),\n",
       " ('oid',),\n",
       " ('oid',),\n",
       " ('oid',),\n",
       " ('oid',),\n",
       " ('oid',),\n",
       " ('ftrelid',),\n",
       " ('oid',),\n",
       " ('roident',),\n",
       " ('oid',),\n",
       " ('objoid',),\n",
       " ('objoid',),\n",
       " ('objoid',),\n",
       " ('oid',),\n",
       " ('oid',),\n",
       " ('partrelid',),\n",
       " ('rngtypid',),\n",
       " ('oid',),\n",
       " ('seqrelid',),\n",
       " ('oid',),\n",
       " ('oid',),\n",
       " ('oid',),\n",
       " ('srsubid',),\n",
       " ('chunk_id',),\n",
       " ('chunk_id',),\n",
       " ('chunk_id',),\n",
       " ('chunk_id',),\n",
       " ('chunk_id',),\n",
       " ('chunk_id',),\n",
       " ('chunk_id',),\n",
       " ('chunk_id',),\n",
       " ('chunk_id',),\n",
       " ('chunk_id',),\n",
       " ('chunk_id',),\n",
       " ('chunk_id',),\n",
       " ('chunk_id',),\n",
       " ('chunk_id',),\n",
       " ('chunk_id',),\n",
       " ('chunk_id',),\n",
       " ('chunk_id',),\n",
       " ('chunk_id',),\n",
       " ('chunk_id',),\n",
       " ('chunk_id',),\n",
       " ('chunk_id',),\n",
       " ('chunk_id',),\n",
       " ('chunk_id',),\n",
       " ('chunk_id',),\n",
       " ('chunk_id',),\n",
       " ('chunk_id',),\n",
       " ('chunk_id',),\n",
       " ('chunk_id',),\n",
       " ('chunk_id',),\n",
       " ('chunk_id',),\n",
       " ('chunk_id',),\n",
       " ('chunk_id',),\n",
       " ('chunk_id',),\n",
       " ('chunk_id',),\n",
       " ('chunk_id',),\n",
       " ('chunk_id',),\n",
       " ('chunk_id',),\n",
       " ('chunk_id',),\n",
       " ('chunk_id',),\n",
       " ('chunk_id',),\n",
       " ('chunk_id',),\n",
       " ('chunk_id',),\n",
       " ('chunk_id',),\n",
       " ('chunk_id',),\n",
       " ('chunk_id',),\n",
       " ('chunk_id',),\n",
       " ('chunk_id',),\n",
       " ('chunk_id',),\n",
       " ('chunk_id',),\n",
       " ('chunk_id',),\n",
       " ('chunk_id',),\n",
       " ('chunk_id',),\n",
       " ('chunk_id',),\n",
       " ('chunk_id',),\n",
       " ('chunk_id',),\n",
       " ('chunk_id',),\n",
       " ('chunk_id',),\n",
       " ('chunk_id',),\n",
       " ('chunk_id',),\n",
       " ('chunk_id',),\n",
       " ('chunk_id',),\n",
       " ('chunk_id',),\n",
       " ('chunk_id',),\n",
       " ('chunk_id',),\n",
       " ('chunk_id',),\n",
       " ('chunk_id',),\n",
       " ('chunk_id',),\n",
       " ('chunk_id',),\n",
       " ('chunk_id',),\n",
       " ('chunk_id',),\n",
       " ('chunk_id',),\n",
       " ('chunk_id',),\n",
       " ('oid',),\n",
       " ('proname',),\n",
       " ('oid',),\n",
       " ('typname',),\n",
       " ('attrelid',),\n",
       " ('attrelid',),\n",
       " ('oid',),\n",
       " ('relname',),\n",
       " ('reltablespace',),\n",
       " ('adrelid',),\n",
       " ('oid',),\n",
       " ('conname',),\n",
       " ('conrelid',),\n",
       " ('contypid',),\n",
       " ('oid',),\n",
       " ('conparentid',),\n",
       " ('inhrelid',),\n",
       " ('inhparent',),\n",
       " ('indrelid',),\n",
       " ('indexrelid',),\n",
       " ('oid',),\n",
       " ('oprname',),\n",
       " ('opfmethod',),\n",
       " ('oid',),\n",
       " ('opcmethod',),\n",
       " ('oid',),\n",
       " ('amname',),\n",
       " ('oid',),\n",
       " ('amopfamily',),\n",
       " ('amopopr',),\n",
       " ('oid',),\n",
       " ('amprocfamily',),\n",
       " ('oid',),\n",
       " ('lanname',),\n",
       " ('oid',),\n",
       " ('oid',),\n",
       " ('loid',),\n",
       " ('aggfnoid',),\n",
       " ('starelid',),\n",
       " ('oid',),\n",
       " ('stxname',),\n",
       " ('stxrelid',),\n",
       " ('stxoid',),\n",
       " ('oid',),\n",
       " ('ev_class',),\n",
       " ('tgconstraint',),\n",
       " ('tgrelid',),\n",
       " ('oid',),\n",
       " ('evtname',),\n",
       " ('oid',),\n",
       " ('objoid',),\n",
       " ('oid',),\n",
       " ('castsource',),\n",
       " ('oid',),\n",
       " ('enumtypid',),\n",
       " ('enumtypid',),\n",
       " ('nspname',),\n",
       " ('oid',),\n",
       " ('connamespace',),\n",
       " ('conname',),\n",
       " ('oid',),\n",
       " ('classid',),\n",
       " ('refclassid',),\n",
       " ('datname',),\n",
       " ('oid',),\n",
       " ('setdatabase',),\n",
       " ('oid',),\n",
       " ('spcname',),\n",
       " ('rolname',),\n",
       " ('oid',),\n",
       " ('oid',),\n",
       " ('roleid',),\n",
       " ('member',),\n",
       " ('grantor',),\n",
       " ('dbid',),\n",
       " ('refclassid',),\n",
       " ('objoid',),\n",
       " ('cfgname',),\n",
       " ('oid',),\n",
       " ('mapcfg',),\n",
       " ('dictname',),\n",
       " ('oid',),\n",
       " ('prsname',),\n",
       " ('oid',),\n",
       " ('tmplname',),\n",
       " ('oid',),\n",
       " ('oid',),\n",
       " ('extname',),\n",
       " ('oid',),\n",
       " ('fdwname',),\n",
       " ('oid',),\n",
       " ('srvname',),\n",
       " ('oid',),\n",
       " ('umuser',),\n",
       " ('ftrelid',),\n",
       " ('oid',),\n",
       " ('polrelid',),\n",
       " ('roident',),\n",
       " ('roname',),\n",
       " ('defaclrole',),\n",
       " ('oid',),\n",
       " ('objoid',),\n",
       " ('objoid',),\n",
       " ('objoid',),\n",
       " ('collname',),\n",
       " ('oid',),\n",
       " ('parname',),\n",
       " ('oid',),\n",
       " ('partrelid',),\n",
       " ('rngtypid',),\n",
       " ('rngmultitypid',),\n",
       " ('oid',),\n",
       " ('trftype',),\n",
       " ('seqrelid',),\n",
       " ('oid',),\n",
       " ('pubname',),\n",
       " ('oid',),\n",
       " ('pnnspid',),\n",
       " ('oid',),\n",
       " ('prrelid',),\n",
       " ('prpubid',),\n",
       " ('oid',),\n",
       " ('subdbid',),\n",
       " ('srrelid',),\n",
       " ('rolname',),\n",
       " ('usename',),\n",
       " ('groname',),\n",
       " ('usename',),\n",
       " ('schemaname',),\n",
       " ('schemaname',),\n",
       " ('schemaname',),\n",
       " ('schemaname',),\n",
       " ('schemaname',),\n",
       " ('schemaname',),\n",
       " ('schemaname',),\n",
       " ('schemaname',),\n",
       " ('schemaname',),\n",
       " ('schemaname',),\n",
       " ('pubname',),\n",
       " ('locktype',),\n",
       " ('name',),\n",
       " ('name',),\n",
       " ('name',),\n",
       " ('transaction',),\n",
       " ('name',),\n",
       " ('objoid',),\n",
       " ('name',),\n",
       " ('sourcefile',),\n",
       " ('rule_number',),\n",
       " ('map_number',),\n",
       " ('abbrev',),\n",
       " ('name',),\n",
       " ('name',),\n",
       " ('name',),\n",
       " ('name',),\n",
       " ('relid',),\n",
       " ('relid',),\n",
       " ('relid',),\n",
       " ('relid',),\n",
       " ('relid',),\n",
       " ('relid',),\n",
       " ('relid',),\n",
       " ('relid',),\n",
       " ('relid',),\n",
       " ('relid',),\n",
       " ('relid',),\n",
       " ('relid',),\n",
       " ('relid',),\n",
       " ('relid',),\n",
       " ('relid',),\n",
       " ('relid',),\n",
       " ('relid',),\n",
       " ('relid',),\n",
       " ('datid',),\n",
       " ('pid',),\n",
       " ('name',),\n",
       " ('pid',),\n",
       " ('stats_reset',),\n",
       " ('subid',),\n",
       " ('pid',),\n",
       " ('pid',),\n",
       " ('slot_name',),\n",
       " ('slot_name',),\n",
       " ('datid',),\n",
       " ('datid',),\n",
       " ('funcid',),\n",
       " ('funcid',),\n",
       " ('archived_count',),\n",
       " ('checkpoints_timed',),\n",
       " ('backend_type',),\n",
       " ('wal_records',),\n",
       " ('pid',),\n",
       " ('pid',),\n",
       " ('pid',),\n",
       " ('pid',),\n",
       " ('pid',),\n",
       " ('pid',),\n",
       " ('umid',),\n",
       " ('local_id',),\n",
       " ('oid',),\n",
       " ('subid',),\n",
       " ('catalog_name',),\n",
       " ('grantee',),\n",
       " ('grantee',),\n",
       " ('udt_catalog',),\n",
       " ('character_set_catalog',),\n",
       " ('constraint_catalog',),\n",
       " ('constraint_catalog',),\n",
       " ('collation_catalog',),\n",
       " ('collation_catalog',),\n",
       " ('table_catalog',),\n",
       " ('domain_catalog',),\n",
       " ('grantor',),\n",
       " ('udt_catalog',),\n",
       " ('table_catalog',),\n",
       " ('table_catalog',),\n",
       " ('table_catalog',),\n",
       " ('constraint_catalog',),\n",
       " ('udt_catalog',),\n",
       " ('domain_catalog',),\n",
       " ('role_name',),\n",
       " ('constraint_catalog',),\n",
       " ('specific_catalog',),\n",
       " ('constraint_catalog',),\n",
       " ('grantor',),\n",
       " ('specific_catalog',),\n",
       " ('grantor',),\n",
       " ('grantor',),\n",
       " ('specific_catalog',),\n",
       " ('specific_catalog',),\n",
       " ('specific_catalog',),\n",
       " ('specific_catalog',),\n",
       " ('catalog_name',),\n",
       " ('sequence_catalog',),\n",
       " ('feature_id',),\n",
       " ('chunk_id',),\n",
       " ('chunk_id',),\n",
       " ('implementation_info_id',),\n",
       " ('chunk_id',),\n",
       " ('chunk_id',),\n",
       " ('feature_id',),\n",
       " ('chunk_id',),\n",
       " ('chunk_id',),\n",
       " ('sizing_id',),\n",
       " ('chunk_id',),\n",
       " ('chunk_id',),\n",
       " ('constraint_catalog',),\n",
       " ('grantor',),\n",
       " ('grantor',),\n",
       " ('table_catalog',),\n",
       " ('udt_catalog',),\n",
       " ('trigger_catalog',),\n",
       " ('trigger_catalog',),\n",
       " ('grantor',),\n",
       " ('grantor',),\n",
       " ('grantor',),\n",
       " ('grantor',),\n",
       " ('user_defined_type_catalog',),\n",
       " ('view_catalog',),\n",
       " ('table_catalog',),\n",
       " ('view_catalog',),\n",
       " ('table_catalog',),\n",
       " ('object_catalog',),\n",
       " ('object_catalog',),\n",
       " ('nspname',),\n",
       " ('table_catalog',),\n",
       " ('oid',),\n",
       " ('foreign_data_wrapper_catalog',),\n",
       " ('foreign_data_wrapper_catalog',),\n",
       " ('oid',),\n",
       " ('foreign_server_catalog',),\n",
       " ('foreign_server_catalog',),\n",
       " ('foreign_table_catalog',),\n",
       " ('foreign_table_catalog',),\n",
       " ('foreign_table_catalog',),\n",
       " ('oid',),\n",
       " ('authorization_identifier',),\n",
       " ('authorization_identifier',),\n",
       " ('last_value',),\n",
       " ('email',),\n",
       " ('chunk_id',),\n",
       " ('chunk_id',),\n",
       " ('id',),\n",
       " ('email',),\n",
       " ('id',),\n",
       " ('chunk_id',),\n",
       " ('chunk_id',),\n",
       " ('id',),\n",
       " ('last_value',),\n",
       " ('id',),\n",
       " ('chunk_id',),\n",
       " ('chunk_id',),\n",
       " ('id',),\n",
       " ('abbreviation',),\n",
       " ('last_value',),\n",
       " ('id',),\n",
       " ('chunk_id',),\n",
       " ('chunk_id',),\n",
       " ('id',),\n",
       " ('id',),\n",
       " ('chunk_id',),\n",
       " ('chunk_id',),\n",
       " ('id',),\n",
       " ('match_id',),\n",
       " ('match_id',),\n",
       " ('last_value',),\n",
       " ('date_add',),\n",
       " ('chunk_id',),\n",
       " ('chunk_id',),\n",
       " ('id',),\n",
       " ('last_value',),\n",
       " ('date_add',),\n",
       " ('chunk_id',),\n",
       " ('chunk_id',),\n",
       " ('id',)]"
      ]
     },
     "execution_count": 22,
     "metadata": {},
     "output_type": "execute_result"
    }
   ],
   "source": [
    "querys2 = \"\"\"SELECT\n",
    "    a.attname AS column_name\n",
    "FROM\n",
    "    pg_index i\n",
    "    JOIN pg_attribute a ON a.attnum = ANY(i.indkey)\n",
    "WHERE\n",
    "    i.indrelid = 'match'::regclass\n",
    "    AND i.indisprimary;\n",
    "\"\"\"\n",
    "conn.query(querys2, False)"
   ]
  },
  {
   "cell_type": "code",
   "execution_count": null,
   "metadata": {},
   "outputs": [],
   "source": [
    "conn.close()"
   ]
  },
  {
   "cell_type": "markdown",
   "metadata": {},
   "source": [
    "# END"
   ]
  },
  {
   "cell_type": "code",
   "execution_count": 9,
   "metadata": {},
   "outputs": [
    {
     "data": {
      "text/plain": [
       "b'{\"id\": 8670, \"column2\": 1, \"column3\": -1.5, \"column4\": 1.5, \"column5\": 8, \"column6\": 313, \"column7\": 4, \"column8\": 1, \"column9\": 4, \"team1\": \"PIT\", \"team2\": \"CIN\", \"status\": \"Final\", \"date\": \"2024-06-17\", \"sport\": \"mlb\"}'"
      ]
     },
     "execution_count": 9,
     "metadata": {},
     "output_type": "execute_result"
    }
   ],
   "source": [
    "import redis\n",
    "import psycopg2\n",
    "from psycopg2 import sql\n",
    "import json\n",
    "\n",
    "# Cấu hình\n",
    "REDIS_HOST = 'localhost'\n",
    "REDIS_PORT = 6379\n",
    "REDIS_DB = 0\n",
    "\n",
    "# Kết nối đến Redis\n",
    "redis_client = redis.StrictRedis(host=REDIS_HOST, port=REDIS_PORT, db=REDIS_DB)\n",
    "\n",
    "\n",
    "\n",
    "def cache_insert_data(data):\n",
    "    # Tạo một khóa duy nhất cho dữ liệu\n",
    "    data_key = f\"data:{data['id']}\"\n",
    "    \n",
    "    # Lưu trữ dữ liệu vào Redis\n",
    "    redis_client.set(data_key, json.dumps(data))\n",
    "    \n",
    "    # Chèn dữ liệu vào PostgreSQL\n",
    "    # if insert_data(data):\n",
    "    #     # Nếu chèn thành công, xóa dữ liệu được lưu trữ trong Redis\n",
    "    #     redis_client.delete(data_key)\n",
    "    # else:\n",
    "    #     print(\"Chèn dữ liệu vào cơ sở dữ liệu thất bại. Dữ liệu được lưu trữ trong Redis vẫn còn.\")\n",
    "\n",
    "# Dữ liệu ví dụ\n",
    "data_list = [\n",
    "    {'id': 8670, 'column2': 1, 'column3': -1.5, 'column4': 1.5, 'column5': 8, 'column6': 313, 'column7': 4, 'column8': 1, 'column9': 4, 'team1': 'PIT', 'team2': 'CIN', 'status': 'Final', 'date': '2024-06-17', 'sport': 'mlb'},\n",
    "    {'id': 8671, 'column2': 2, 'column3': -1.5, 'column4': 1.5, 'column5': 9.5, 'column6': 313, 'column7': 9, 'column8': 2, 'column9': 9, 'team1': 'PHI', 'team2': 'SD', 'status': 'Final', 'date': '2024-06-17', 'sport': 'mlb'},\n",
    "    {'id': 8672, 'column2': 7, 'column3': 1.5, 'column4': -1.5, 'column5': 7, 'column6': 313, 'column7': 6, 'column8': 7, 'column9': 6, 'team1': 'MIA', 'team2': 'STL', 'status': 'Final', 'date': '2024-06-17', 'sport': 'mlb'},\n",
    "    {'id': 8673, 'column2': 7, 'column3': -1.5, 'column4': 1.5, 'column5': 7.5, 'column6': 313, 'column7': 3, 'column8': 7, 'column9': 3, 'team1': 'TOR', 'team2': 'BOS', 'status': 'Final', 'date': '2024-06-17', 'sport': 'mlb'},\n",
    "    {'id': 8674, 'column2': 1, 'column3': -1.5, 'column4': 1.5, 'column5': 8, 'column6': 313, 'column7': 2, 'column8': 1, 'column9': 2, 'team1': 'ATL', 'team2': 'DET', 'status': 'Final', 'date': '2024-06-17', 'sport': 'mlb'},\n",
    "    {'id': 8675, 'column2': 14, 'column3': -1.5, 'column4': 1.5, 'column5': 8, 'column6': 313, 'column7': 2, 'column8': 14, 'column9': 2, 'team1': 'TEX', 'team2': 'NYM', 'status': 'Final', 'date': '2024-06-18', 'sport': 'mlb'},\n",
    "    {'id': 8676, 'column2': 7, 'column3': -1.5, 'column4': 1.5, 'column5': 10.5, 'column6': 313, 'column7': 6, 'column8': 7, 'column9': 6, 'team1': 'CHC', 'team2': 'SF', 'status': 'Final', 'date': '2024-06-18', 'sport': 'mlb'},\n",
    "    {'id': 8677, 'column2': 9, 'column3': 1.5, 'column4': -1.5, 'column5': 12, 'column6': 313, 'column7': 5, 'column8': 9, 'column9': 5, 'team1': 'COL', 'team2': 'LAD', 'status': 'Final', 'date': '2024-06-18', 'sport': 'mlb'},\n",
    "    {'id': 8678, 'column2': 3, 'column3': 1.5, 'column4': -1.5, 'column5': 8.5, 'column6': 313, 'column7': None, 'column8': None, 'column9': 5, 'team1': 'LAA', 'team2': 'MIL', 'status': 'InProgress', 'date': '2024-06-18', 'sport': 'mlb'}\n",
    "]\n",
    "\n",
    "# Chèn dữ liệu\n",
    "for data in data_list:\n",
    "    cache_insert_data(data)\n",
    "redis_client.get('data:8670')"
   ]
  },
  {
   "cell_type": "code",
   "execution_count": null,
   "metadata": {},
   "outputs": [],
   "source": [
    "# ✅ Data inserted successfully into (8682, None, 1.5, -1.5, 8, 314, None, None, None, 'MIA', 'STL', 'Scheduled', '2024-06-18', 'mlb')! ✅\n",
    "# ✅ Data inserted successfully into (8679, None, 1.5, -1.5, 8.5, 314, None, None, None, 'PIT', 'CIN', 'Scheduled', '2024-06-18', 'mlb')! ✅\n",
    "# ✅ Data inserted successfully into (8680, None, -1.5, 1.5, 8.5, 314, None, None, None, 'PHI', 'SD', 'Scheduled', '2024-06-18', 'mlb')! ✅\n",
    "# ✅ Data inserted successfully into (8681, None, 1.5, -1.5, 8.5, 314, None, None, None, 'CLE', 'SEA', 'Scheduled', '2024-06-18', 'mlb')! ✅\n",
    "# ✅ Data inserted successfully into (8683, None, 1.5, -1.5, 8.5, 314, None, None, None, 'WSH', 'ARI', 'Scheduled', '2024-06-18', 'mlb')! ✅\n",
    "# ✅ Data inserted successfully into (8684, None, -1.5, 1.5, 9, 314, None, None, None, 'NYY', 'BAL', 'Scheduled', '2024-06-18', 'mlb')! ✅\n",
    "# ✅ Data inserted successfully into (8685, None, 1.5, -1.5, 8, 314, None, None, None, 'TOR', 'BOS', 'Scheduled', '2024-06-18', 'mlb')! ✅\n",
    "# ✅ Data inserted successfully into (8686, None, -1.5, 1.5, 8.5, 314, None, None, None, 'ATL', 'DET', 'Scheduled', '2024-06-18', 'mlb')! ✅\n",
    "# ✅ Data inserted successfully into (8687, None, -1.5, 1.5, 8, 314, None, None, None, 'MIN', 'TB', 'Scheduled', '2024-06-18', 'mlb')! ✅\n",
    "# ✅ Data inserted successfully into (8688, None, 1.5, -1.5, 8, 314, None, None, None, 'TEX', 'NYM', 'Scheduled', '2024-06-19', 'mlb')! ✅\n",
    "# ✅ Data inserted successfully into (8689, None, 1.5, -1.5, 9.5, 314, None, None, None, 'CHC', 'SF', 'Scheduled', '2024-06-19', 'mlb')! ✅\n",
    "# ✅ Data inserted successfully into (8690, None, 1.5, -1.5, 8.5, 314, None, None, None, 'CHW', 'HOU', 'Scheduled', '2024-06-19', 'mlb')! ✅\n",
    "# ✅ Data inserted successfully into (8691, None, 1.5, -1.5, 11.5, 314, None, None, None, 'COL', 'LAD', 'Scheduled', '2024-06-19', 'mlb')! ✅\n",
    "# ✅ Data inserted successfully into (8692, None, 1.5, -1.5, 8.5, 314, None, None, None, 'LAA', 'MIL', 'Scheduled', '2024-06-19', 'mlb')! ✅\n",
    "# ✅ Data inserted successfully into (8693, None, 1.5, -1.5, 8, 314, None, None, None, 'OAK', 'KC', 'Scheduled', '2024-06-19', 'mlb')! ✅\n"
   ]
  },
  {
   "cell_type": "code",
   "execution_count": 1,
   "metadata": {},
   "outputs": [
    {
     "name": "stdout",
     "output_type": "stream",
     "text": [
      "2024-06-18\n",
      "2024-06-17\n"
     ]
    }
   ],
   "source": [
    "from datetime import datetime\n",
    "import pytz\n",
    "def get_us_date(timezone_name='US/Eastern'):\n",
    "    us_timezone = pytz.timezone(timezone_name)\n",
    "    utc_now = datetime.now(pytz.utc)\n",
    "    us_now = utc_now.astimezone(us_timezone)\n",
    "    return us_now.strftime('%Y-%m-%d') \n",
    "print(get_us_date())\n",
    "from datetime import datetime, timedelta\n",
    "import pytz\n",
    "\n",
    "def get_us_date_yesterday(timezone_name='US/Eastern'):\n",
    "    us_timezone = pytz.timezone(timezone_name)\n",
    "    utc_now = datetime.now(pytz.utc)\n",
    "    us_now = utc_now.astimezone(us_timezone)\n",
    "    us_yesterday = us_now - timedelta(days=1)\n",
    "    return us_yesterday.strftime('%Y-%m-%d')\n",
    "\n",
    "print(get_us_date_yesterday())\n"
   ]
  },
  {
   "cell_type": "code",
   "execution_count": 6,
   "metadata": {},
   "outputs": [
    {
     "name": "stdout",
     "output_type": "stream",
     "text": [
      "84\n",
      "313\n"
     ]
    }
   ],
   "source": [
    "YEAR_DATE_US = get_us_date_yesterday()\n",
    "sport_id = \"mlb\"\n",
    "season = \"2024\"\n",
    "query = f\"SELECT idx,   id FROM date_id WHERE date_play = '{YEAR_DATE_US}' AND sport_id = '{sport_id}' AND season = '{season}'\"\n",
    "idx = conn.query(query, False)[0][0]\n",
    "id_idx = conn.query(query, False)[0][1]\n",
    "print(idx)\n",
    "print(id_idx)\n",
    "\n",
    "\n"
   ]
  },
  {
   "cell_type": "code",
   "execution_count": 23,
   "metadata": {},
   "outputs": [],
   "source": [
    "id_idx =333"
   ]
  },
  {
   "cell_type": "code",
   "execution_count": 24,
   "metadata": {},
   "outputs": [
    {
     "name": "stdout",
     "output_type": "stream",
     "text": [
      "15\n"
     ]
    }
   ],
   "source": [
    "querys1 = f\"\"\"SELECT COUNT(*) FROM \"match\" m WHERE m.date_id = '{id_idx}' AND m.status != 'Final'\"\"\"\n",
    "count = conn.query(querys1, False)[0][0]\n",
    "\n",
    "print(count)\n"
   ]
  },
  {
   "cell_type": "code",
   "execution_count": 25,
   "metadata": {},
   "outputs": [
    {
     "name": "stdout",
     "output_type": "stream",
     "text": [
      "<bound method Response.json of <Response [403]>>\n"
     ]
    }
   ],
   "source": [
    "import requests\n",
    "\n",
    "url = 'https://api.nflpickwatch.com/v1/general/games/2024/116/mlb/REGULAR'\n",
    "\n",
    "response = requests.get(url)\n",
    "\n",
    "print(response.json)"
   ]
  },
  {
   "cell_type": "code",
   "execution_count": null,
   "metadata": {},
   "outputs": [],
   "source": []
  }
 ],
 "metadata": {
  "kernelspec": {
   "display_name": "venv",
   "language": "python",
   "name": "python3"
  },
  "language_info": {
   "codemirror_mode": {
    "name": "ipython",
    "version": 3
   },
   "file_extension": ".py",
   "mimetype": "text/x-python",
   "name": "python",
   "nbconvert_exporter": "python",
   "pygments_lexer": "ipython3",
   "version": "3.12.3"
  }
 },
 "nbformat": 4,
 "nbformat_minor": 2
}
