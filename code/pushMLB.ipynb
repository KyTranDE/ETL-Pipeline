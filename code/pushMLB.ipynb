{
 "cells": [
  {
   "cell_type": "markdown",
   "metadata": {},
   "source": [
    "# Config for database"
   ]
  },
  {
   "cell_type": "code",
   "execution_count": null,
   "metadata": {},
   "outputs": [],
   "source": [
    "from Utils import postgres_tool as postgres\n",
    "import configparser\n",
    "import os\n",
    "\n",
    "config = configparser.ConfigParser()\n",
    "config.read('./config/config.ini')\n",
    "db_host = config['database_sv']['DB_SV_HOSTS']\n",
    "db_port = config['database_sv'].getint('DB_SV_PORT')\n",
    "db_username = config['database_sv']['DB_SV_USER']\n",
    "db_password = config['database_sv']['DB_SV_PASSWORD']\n",
    "db_database = config['database_sv']['DB_SV_DATABASE']\n",
    "print(db_host )"
   ]
  },
  {
   "cell_type": "code",
   "execution_count": null,
   "metadata": {},
   "outputs": [],
   "source": [
    "# import yaml\n",
    "\n",
    "# database = yaml.load(open('./config/config.yml', 'r'), Loader=yaml.FullLoader)['database_sv']\n",
    "# database"
   ]
  },
  {
   "cell_type": "markdown",
   "metadata": {},
   "source": [
    "# conectDB"
   ]
  },
  {
   "cell_type": "code",
   "execution_count": null,
   "metadata": {},
   "outputs": [],
   "source": [
    "\n",
    "conn = postgres.PostgresTool(db_host, db_username, db_port, db_password, db_database)"
   ]
  },
  {
   "cell_type": "code",
   "execution_count": null,
   "metadata": {},
   "outputs": [],
   "source": [
    "conn.get_all_table()"
   ]
  },
  {
   "cell_type": "code",
   "execution_count": null,
   "metadata": {},
   "outputs": [],
   "source": [
    "import pandas as pd \n",
    "\n",
    "data = pd.read_csv('./data/prediction.csv')\n",
    "\n",
    "for i in range(len(data)):\n",
    "    print(data.iloc[i].to_dict())\n",
    "    conn.push_data('prediction', data.iloc[i].to_dict())\n"
   ]
  },
  {
   "cell_type": "code",
   "execution_count": null,
   "metadata": {},
   "outputs": [],
   "source": [
    "conn.close()"
   ]
  },
  {
   "cell_type": "markdown",
   "metadata": {},
   "source": [
    "# Use os file csv"
   ]
  },
  {
   "cell_type": "code",
   "execution_count": null,
   "metadata": {},
   "outputs": [],
   "source": [
    "import numpy as np \n",
    "import pandas as pd \n",
    "\n",
    "import os\n",
    "for dirname, _, filenames in os.walk('./db'):\n",
    "    for filename in filenames:\n",
    "        print(os.path.join(dirname, filename))"
   ]
  },
  {
   "cell_type": "markdown",
   "metadata": {},
   "source": [
    "# Insert data for database"
   ]
  },
  {
   "cell_type": "code",
   "execution_count": null,
   "metadata": {},
   "outputs": [],
   "source": [
    "# conn.insert_data('./db\\sport.csv')\n"
   ]
  },
  {
   "cell_type": "code",
   "execution_count": null,
   "metadata": {},
   "outputs": [],
   "source": [
    "# conn.insert_data('./db/team.csv')\n"
   ]
  },
  {
   "cell_type": "code",
   "execution_count": null,
   "metadata": {},
   "outputs": [],
   "source": [
    "# conn.insert_data('./db/date_id.csv')\n"
   ]
  },
  {
   "cell_type": "code",
   "execution_count": null,
   "metadata": {},
   "outputs": [],
   "source": [
    "# conn.insert_data('./db/season.csv')"
   ]
  },
  {
   "cell_type": "code",
   "execution_count": null,
   "metadata": {},
   "outputs": [],
   "source": [
    "# conn.insert_data('./db/date_id.csv')"
   ]
  },
  {
   "cell_type": "code",
   "execution_count": null,
   "metadata": {},
   "outputs": [],
   "source": [
    "# conn.insert_data('./db/match.csv')\n"
   ]
  },
  {
   "cell_type": "code",
   "execution_count": null,
   "metadata": {},
   "outputs": [],
   "source": [
    "# conn.insert_data('./db/prediction.csv')\n"
   ]
  },
  {
   "cell_type": "code",
   "execution_count": null,
   "metadata": {},
   "outputs": [],
   "source": [
    "from datetime import datetime\n",
    "import pytz\n",
    "def get_us_date(timezone_name='US/Eastern'):\n",
    "    us_timezone = pytz.timezone(timezone_name)\n",
    "    utc_now = datetime.now(pytz.utc)\n",
    "    us_now = utc_now.astimezone(us_timezone)\n",
    "    return us_now.strftime('%Y-%m-%d')\n",
    "CURRENT_DATE_US = get_us_date()\n",
    "sport_id = \"mlb\"\n",
    "query = f\"SELECT idx,   id FROM date_id WHERE date_play = '{CURRENT_DATE_US}' AND sport_id = '{sport_id}' AND season = '2024'\"\n",
    "idx = conn.query(query, False)[0][0]\n",
    "id_idx = conn.query(query, False)[0][1]\n",
    "print(idx)\n",
    "print(id_idx)"
   ]
  },
  {
   "cell_type": "code",
   "execution_count": null,
   "metadata": {},
   "outputs": [],
   "source": [
    "querys1 = \"\"\"SELECT CASE\n",
    "    WHEN MAX(id) = COUNT(id) THEN 'Ascending'\n",
    "    ELSE 'Not Ascending'\n",
    "END AS result\n",
    "FROM (\n",
    "    SELECT id, ROW_NUMBER() OVER (ORDER BY id) AS rn\n",
    "    FROM \"match\" \n",
    ") subquery\n",
    "WHERE id <> rn;\n",
    "\"\"\"\n",
    "\n",
    "conn.query(querys1, False)[0][0]"
   ]
  },
  {
   "cell_type": "code",
   "execution_count": null,
   "metadata": {},
   "outputs": [],
   "source": [
    "querys2 = \"\"\"SELECT\n",
    "    a.attname AS column_name\n",
    "FROM\n",
    "    pg_index i\n",
    "    JOIN pg_attribute a ON a.attnum = ANY(i.indkey)\n",
    "WHERE\n",
    "    i.indrelid = 'match'::regclass\n",
    "    AND i.indisprimary;\n",
    "\"\"\"\n",
    "conn.query(querys2, False)"
   ]
  },
  {
   "cell_type": "code",
   "execution_count": null,
   "metadata": {},
   "outputs": [],
   "source": [
    "conn.close()"
   ]
  },
  {
   "cell_type": "markdown",
   "metadata": {},
   "source": [
    "# END"
   ]
  },
  {
   "cell_type": "code",
   "execution_count": null,
   "metadata": {},
   "outputs": [],
   "source": [
    "import redis\n",
    "import psycopg2\n",
    "from psycopg2 import sql\n",
    "import json\n",
    "\n",
    "# Cấu hình\n",
    "REDIS_HOST = 'localhost'\n",
    "REDIS_PORT = 6379\n",
    "REDIS_DB = 0\n",
    "\n",
    "# Kết nối đến Redis\n",
    "redis_client = redis.StrictRedis(host=REDIS_HOST, port=REDIS_PORT, db=REDIS_DB)\n",
    "\n",
    "\n",
    "\n",
    "def cache_insert_data(data):\n",
    "    # Tạo một khóa duy nhất cho dữ liệu\n",
    "    data_key = f\"data:{data['id']}\"\n",
    "    \n",
    "    # Lưu trữ dữ liệu vào Redis\n",
    "    redis_client.set(data_key, json.dumps(data))\n",
    "    \n",
    "    # Chèn dữ liệu vào PostgreSQL\n",
    "    # if insert_data(data):\n",
    "    #     # Nếu chèn thành công, xóa dữ liệu được lưu trữ trong Redis\n",
    "    #     redis_client.delete(data_key)\n",
    "    # else:\n",
    "    #     print(\"Chèn dữ liệu vào cơ sở dữ liệu thất bại. Dữ liệu được lưu trữ trong Redis vẫn còn.\")\n",
    "\n",
    "# Dữ liệu ví dụ\n",
    "data_list = [\n",
    "    {'id': 8670, 'column2': 1, 'column3': -1.5, 'column4': 1.5, 'column5': 8, 'column6': 313, 'column7': 4, 'column8': 1, 'column9': 4, 'team1': 'PIT', 'team2': 'CIN', 'status': 'Final', 'date': '2024-06-17', 'sport': 'mlb'},\n",
    "    {'id': 8671, 'column2': 2, 'column3': -1.5, 'column4': 1.5, 'column5': 9.5, 'column6': 313, 'column7': 9, 'column8': 2, 'column9': 9, 'team1': 'PHI', 'team2': 'SD', 'status': 'Final', 'date': '2024-06-17', 'sport': 'mlb'},\n",
    "    {'id': 8672, 'column2': 7, 'column3': 1.5, 'column4': -1.5, 'column5': 7, 'column6': 313, 'column7': 6, 'column8': 7, 'column9': 6, 'team1': 'MIA', 'team2': 'STL', 'status': 'Final', 'date': '2024-06-17', 'sport': 'mlb'},\n",
    "    {'id': 8673, 'column2': 7, 'column3': -1.5, 'column4': 1.5, 'column5': 7.5, 'column6': 313, 'column7': 3, 'column8': 7, 'column9': 3, 'team1': 'TOR', 'team2': 'BOS', 'status': 'Final', 'date': '2024-06-17', 'sport': 'mlb'},\n",
    "    {'id': 8674, 'column2': 1, 'column3': -1.5, 'column4': 1.5, 'column5': 8, 'column6': 313, 'column7': 2, 'column8': 1, 'column9': 2, 'team1': 'ATL', 'team2': 'DET', 'status': 'Final', 'date': '2024-06-17', 'sport': 'mlb'},\n",
    "    {'id': 8675, 'column2': 14, 'column3': -1.5, 'column4': 1.5, 'column5': 8, 'column6': 313, 'column7': 2, 'column8': 14, 'column9': 2, 'team1': 'TEX', 'team2': 'NYM', 'status': 'Final', 'date': '2024-06-18', 'sport': 'mlb'},\n",
    "    {'id': 8676, 'column2': 7, 'column3': -1.5, 'column4': 1.5, 'column5': 10.5, 'column6': 313, 'column7': 6, 'column8': 7, 'column9': 6, 'team1': 'CHC', 'team2': 'SF', 'status': 'Final', 'date': '2024-06-18', 'sport': 'mlb'},\n",
    "    {'id': 8677, 'column2': 9, 'column3': 1.5, 'column4': -1.5, 'column5': 12, 'column6': 313, 'column7': 5, 'column8': 9, 'column9': 5, 'team1': 'COL', 'team2': 'LAD', 'status': 'Final', 'date': '2024-06-18', 'sport': 'mlb'},\n",
    "    {'id': 8678, 'column2': 3, 'column3': 1.5, 'column4': -1.5, 'column5': 8.5, 'column6': 313, 'column7': None, 'column8': None, 'column9': 5, 'team1': 'LAA', 'team2': 'MIL', 'status': 'InProgress', 'date': '2024-06-18', 'sport': 'mlb'}\n",
    "]\n",
    "\n",
    "# Chèn dữ liệu\n",
    "for data in data_list:\n",
    "    cache_insert_data(data)\n",
    "redis_client.get('data:8670')"
   ]
  },
  {
   "cell_type": "code",
   "execution_count": null,
   "metadata": {},
   "outputs": [],
   "source": [
    "# ✅ Data inserted successfully into (8682, None, 1.5, -1.5, 8, 314, None, None, None, 'MIA', 'STL', 'Scheduled', '2024-06-18', 'mlb')! ✅\n",
    "# ✅ Data inserted successfully into (8679, None, 1.5, -1.5, 8.5, 314, None, None, None, 'PIT', 'CIN', 'Scheduled', '2024-06-18', 'mlb')! ✅\n",
    "# ✅ Data inserted successfully into (8680, None, -1.5, 1.5, 8.5, 314, None, None, None, 'PHI', 'SD', 'Scheduled', '2024-06-18', 'mlb')! ✅\n",
    "# ✅ Data inserted successfully into (8681, None, 1.5, -1.5, 8.5, 314, None, None, None, 'CLE', 'SEA', 'Scheduled', '2024-06-18', 'mlb')! ✅\n",
    "# ✅ Data inserted successfully into (8683, None, 1.5, -1.5, 8.5, 314, None, None, None, 'WSH', 'ARI', 'Scheduled', '2024-06-18', 'mlb')! ✅\n",
    "# ✅ Data inserted successfully into (8684, None, -1.5, 1.5, 9, 314, None, None, None, 'NYY', 'BAL', 'Scheduled', '2024-06-18', 'mlb')! ✅\n",
    "# ✅ Data inserted successfully into (8685, None, 1.5, -1.5, 8, 314, None, None, None, 'TOR', 'BOS', 'Scheduled', '2024-06-18', 'mlb')! ✅\n",
    "# ✅ Data inserted successfully into (8686, None, -1.5, 1.5, 8.5, 314, None, None, None, 'ATL', 'DET', 'Scheduled', '2024-06-18', 'mlb')! ✅\n",
    "# ✅ Data inserted successfully into (8687, None, -1.5, 1.5, 8, 314, None, None, None, 'MIN', 'TB', 'Scheduled', '2024-06-18', 'mlb')! ✅\n",
    "# ✅ Data inserted successfully into (8688, None, 1.5, -1.5, 8, 314, None, None, None, 'TEX', 'NYM', 'Scheduled', '2024-06-19', 'mlb')! ✅\n",
    "# ✅ Data inserted successfully into (8689, None, 1.5, -1.5, 9.5, 314, None, None, None, 'CHC', 'SF', 'Scheduled', '2024-06-19', 'mlb')! ✅\n",
    "# ✅ Data inserted successfully into (8690, None, 1.5, -1.5, 8.5, 314, None, None, None, 'CHW', 'HOU', 'Scheduled', '2024-06-19', 'mlb')! ✅\n",
    "# ✅ Data inserted successfully into (8691, None, 1.5, -1.5, 11.5, 314, None, None, None, 'COL', 'LAD', 'Scheduled', '2024-06-19', 'mlb')! ✅\n",
    "# ✅ Data inserted successfully into (8692, None, 1.5, -1.5, 8.5, 314, None, None, None, 'LAA', 'MIL', 'Scheduled', '2024-06-19', 'mlb')! ✅\n",
    "# ✅ Data inserted successfully into (8693, None, 1.5, -1.5, 8, 314, None, None, None, 'OAK', 'KC', 'Scheduled', '2024-06-19', 'mlb')! ✅\n"
   ]
  },
  {
   "cell_type": "code",
   "execution_count": null,
   "metadata": {},
   "outputs": [],
   "source": [
    "from datetime import datetime\n",
    "import pytz\n",
    "def get_us_date(timezone_name='US/Eastern'):\n",
    "    us_timezone = pytz.timezone(timezone_name)\n",
    "    utc_now = datetime.now(pytz.utc)\n",
    "    us_now = utc_now.astimezone(us_timezone)\n",
    "    return us_now.strftime('%Y-%m-%d') \n",
    "print(get_us_date())\n",
    "from datetime import datetime, timedelta\n",
    "import pytz\n",
    "\n",
    "def get_us_date_yesterday(timezone_name='US/Eastern'):\n",
    "    us_timezone = pytz.timezone(timezone_name)\n",
    "    utc_now = datetime.now(pytz.utc)\n",
    "    us_now = utc_now.astimezone(us_timezone)\n",
    "    us_yesterday = us_now - timedelta(days=1)\n",
    "    return us_yesterday.strftime('%Y-%m-%d')\n",
    "\n",
    "print(get_us_date_yesterday())\n"
   ]
  },
  {
   "cell_type": "code",
   "execution_count": null,
   "metadata": {},
   "outputs": [],
   "source": [
    "YEAR_DATE_US = get_us_date_yesterday()\n",
    "sport_id = \"mlb\"\n",
    "season = \"2024\"\n",
    "query = f\"SELECT idx,   id FROM date_id WHERE date_play = '{YEAR_DATE_US}' AND sport_id = '{sport_id}' AND season = '{season}'\"\n",
    "idx = conn.query(query, False)[0][0]\n",
    "id_idx = conn.query(query, False)[0][1]\n",
    "print(idx)\n",
    "print(id_idx)\n",
    "\n",
    "\n"
   ]
  },
  {
   "cell_type": "code",
   "execution_count": null,
   "metadata": {},
   "outputs": [],
   "source": [
    "id_idx =333"
   ]
  },
  {
   "cell_type": "code",
   "execution_count": null,
   "metadata": {},
   "outputs": [],
   "source": [
    "querys1 = f\"\"\"SELECT COUNT(*) FROM \"match\" m WHERE m.date_id = '{id_idx}' AND m.status != 'Final'\"\"\"\n",
    "count = conn.query(querys1, False)[0][0]\n",
    "\n",
    "print(count)\n"
   ]
  },
  {
   "cell_type": "code",
   "execution_count": null,
   "metadata": {},
   "outputs": [],
   "source": [
    "import requests\n",
    "\n",
    "url = 'https://api.nflpickwatch.com/v1/general/games/2024/116/mlb/REGULAR'\n",
    "\n",
    "response = requests.get(url)\n",
    "\n",
    "print(response.json)"
   ]
  },
  {
   "cell_type": "code",
   "execution_count": null,
   "metadata": {},
   "outputs": [],
   "source": []
  }
 ],
 "metadata": {
  "kernelspec": {
   "display_name": "venv",
   "language": "python",
   "name": "python3"
  },
  "language_info": {
   "codemirror_mode": {
    "name": "ipython",
    "version": 3
   },
   "file_extension": ".py",
   "mimetype": "text/x-python",
   "name": "python",
   "nbconvert_exporter": "python",
   "pygments_lexer": "ipython3",
   "version": "3.12.3"
  }
 },
 "nbformat": 4,
 "nbformat_minor": 2
}
