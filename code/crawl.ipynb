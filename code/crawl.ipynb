{
 "cells": [
  {
   "cell_type": "code",
   "execution_count": 3,
   "metadata": {},
   "outputs": [
    {
     "data": {
      "text/plain": [
       "200"
      ]
     },
     "execution_count": 3,
     "metadata": {},
     "output_type": "execute_result"
    }
   ],
   "source": [
    "import requests\n",
    "import cairosvg\n",
    "\n",
    "cookies = {\n",
    "    'TOYOTANATIONAL_ENSIGHTEN_PRIVACY_MODAL_VIEWED': '1',\n",
    "    'AMCVS_8F8B67C25245B30D0A490D4C%40AdobeOrg': '1',\n",
    "    'user_email_id': '',\n",
    "    'user_id': '',\n",
    "    'user_account_type': '',\n",
    "    'tms_firstVisitEver': '1721127782026',\n",
    "    'tms_isNew': 'true',\n",
    "    'tms_c': 'test',\n",
    "    'tms_kmd': '%7B%7D',\n",
    "    'tms_kmv': '%7B%7D',\n",
    "    'act_steppco': '',\n",
    "    'tms_visitList': '%7B%7D',\n",
    "    'tms_visitReferrer': '',\n",
    "    'tms_firstReferrer': '',\n",
    "    'tms_vi': '40a730fe29d2d59e%5Ef202f85d8bbfda56',\n",
    "    's_cc': 'true',\n",
    "    'uuid': 'fa79ff83-b831-4e53-9f7a-68250393de92',\n",
    "    'AMCV_8F8B67C25245B30D0A490D4C%40AdobeOrg': '359503849%7CMCIDTS%7C19921%7CMCMID%7C06404539580266859969122205115615097083%7CMCAID%7CNONE%7CMCOPTOUT-1721135104s%7CNONE%7CvVersion%7C5.0.1',\n",
    "}\n",
    "\n",
    "headers = {\n",
    "    'accept': 'text/html,application/xhtml+xml,application/xml;q=0.9,image/avif,image/webp,image/apng,*/*;q=0.8,application/signed-exchange;v=b3;q=0.7',\n",
    "    'accept-language': 'en,en-US;q=0.9,vi;q=0.8',\n",
    "    'cache-control': 'no-cache',\n",
    "    # 'cookie': 'TOYOTANATIONAL_ENSIGHTEN_PRIVACY_MODAL_VIEWED=1; AMCVS_8F8B67C25245B30D0A490D4C%40AdobeOrg=1; user_email_id=; user_id=; user_account_type=; tms_firstVisitEver=1721127782026; tms_isNew=true; tms_c=test; tms_kmd=%7B%7D; tms_kmv=%7B%7D; act_steppco=; tms_visitList=%7B%7D; tms_visitReferrer=; tms_firstReferrer=; tms_vi=40a730fe29d2d59e%5Ef202f85d8bbfda56; s_cc=true; uuid=fa79ff83-b831-4e53-9f7a-68250393de92; AMCV_8F8B67C25245B30D0A490D4C%40AdobeOrg=359503849%7CMCIDTS%7C19921%7CMCMID%7C06404539580266859969122205115615097083%7CMCAID%7CNONE%7CMCOPTOUT-1721135104s%7CNONE%7CvVersion%7C5.0.1',\n",
    "    'dnt': '1',\n",
    "    'pragma': 'no-cache',\n",
    "    'priority': 'u=0, i',\n",
    "    'sec-fetch-dest': 'document',\n",
    "    'sec-fetch-mode': 'navigate',\n",
    "    'sec-fetch-site': 'cross-site',\n",
    "    'sec-fetch-user': '?1',\n",
    "    'upgrade-insecure-requests': '1',\n",
    "    'user-agent': 'Mozilla/5.0 (Windows NT 10.0; Win64; x64) AppleWebKit/537.36 (KHTML, like Gecko) Chrome/126.0.0.0 Safari/537.36 Edg/126.0.0.0',\n",
    "}\n",
    "\n",
    "response = requests.get(\n",
    "    \"https://autoparts.toyota.com/products/category/parts-electrical-wiring-clamp?driveline=AWD+2.0L+CVT&grade=L+5Dr.+SUV&series_name=COROLLA+CROSS&model_year=2024&page=49&model_year_code=2024%3A6302\",\n",
    "    # cookies=cookies,\n",
    "    # headers=headers,\n",
    ")\n",
    "response.status_code\n",
    "\n",
    "# get image url\n",
    "# from bs4 import BeautifulSoup\n",
    "\n",
    "# soup = BeautifulSoup(response.text, 'html.parser')\n",
    "# # //img[@class='left-img']\n",
    "# images = soup.find(\"img\", {\"class\": \"left-img\"}).get(\"src\")\n",
    "\n",
    "# response = requests.get(images)\n",
    "# svg_content = response.content\n",
    "\n",
    "# # Step 2: Save the SVG content to a local file (optional)\n",
    "# with open(\"input.svg\", \"wb\") as svg_file:\n",
    "#     svg_file.write(svg_content)\n",
    "\n",
    "# # Step 3: Convert SVG to PNG\n",
    "# cairosvg.svg2png(bytestring=svg_content, write_to=\"output.png\")\n",
    "\n",
    "# print(\"SVG has been converted to PNG successfully!\")"
   ]
  },
  {
   "cell_type": "code",
   "execution_count": 2,
   "metadata": {},
   "outputs": [
    {
     "data": {
      "text/plain": [
       "'SVG file downloaded successfully.'"
      ]
     },
     "execution_count": 2,
     "metadata": {},
     "output_type": "execute_result"
    }
   ],
   "source": [
    "import requests\n",
    "\n",
    "# URL of the SVG file\n",
    "url = \"https://eparts-images.toyota.com/82C377H.SVG\"\n",
    "\n",
    "# Sending a GET request to download the SVG file\n",
    "response = requests.get(url)\n",
    "\n",
    "# Checking if the request was successful\n",
    "if response.status_code == 200:\n",
    "    # Saving the SVG file\n",
    "    with open(\"82C377H.SVG\", \"wb\") as file:\n",
    "        file.write(response.content)\n",
    "    result = \"SVG file downloaded successfully.\"\n",
    "else:\n",
    "    result = \"Failed to download the SVG file.\"\n",
    "\n",
    "result\n"
   ]
  },
  {
   "cell_type": "code",
   "execution_count": 35,
   "metadata": {},
   "outputs": [
    {
     "ename": "EntitiesForbidden",
     "evalue": "EntitiesForbidden(name='ns_flows', system_id=None, public_id=None)",
     "output_type": "error",
     "traceback": [
      "\u001b[0;31m---------------------------------------------------------------------------\u001b[0m",
      "\u001b[0;31mEntitiesForbidden\u001b[0m                         Traceback (most recent call last)",
      "Cell \u001b[0;32mIn[35], line 18\u001b[0m\n\u001b[1;32m     16\u001b[0m \u001b[38;5;66;03m# Convert the SVG file to PNG using cairosvg\u001b[39;00m\n\u001b[1;32m     17\u001b[0m output_file \u001b[38;5;241m=\u001b[39m \u001b[38;5;124m\"\u001b[39m\u001b[38;5;124moutput_image.png\u001b[39m\u001b[38;5;124m\"\u001b[39m\n\u001b[0;32m---> 18\u001b[0m \u001b[43mcairosvg\u001b[49m\u001b[38;5;241;43m.\u001b[39;49m\u001b[43msvg2png\u001b[49m\u001b[43m(\u001b[49m\u001b[43murl\u001b[49m\u001b[38;5;241;43m=\u001b[39;49m\u001b[43msvg_file\u001b[49m\u001b[43m,\u001b[49m\u001b[43m \u001b[49m\u001b[43mwrite_to\u001b[49m\u001b[38;5;241;43m=\u001b[39;49m\u001b[43moutput_file\u001b[49m\u001b[43m)\u001b[49m\n\u001b[1;32m     20\u001b[0m \u001b[38;5;28mprint\u001b[39m(\u001b[38;5;124mf\u001b[39m\u001b[38;5;124m\"\u001b[39m\u001b[38;5;124mSVG file has been converted to \u001b[39m\u001b[38;5;132;01m{\u001b[39;00moutput_file\u001b[38;5;132;01m}\u001b[39;00m\u001b[38;5;124m\"\u001b[39m)\n",
      "File \u001b[0;32m~/bbsw/.venv/lib/python3.12/site-packages/cairosvg/__init__.py:55\u001b[0m, in \u001b[0;36msvg2png\u001b[0;34m(bytestring, file_obj, url, dpi, parent_width, parent_height, scale, unsafe, background_color, negate_colors, invert_images, write_to, output_width, output_height)\u001b[0m\n\u001b[1;32m     51\u001b[0m \u001b[38;5;28;01mdef\u001b[39;00m \u001b[38;5;21msvg2png\u001b[39m(bytestring\u001b[38;5;241m=\u001b[39m\u001b[38;5;28;01mNone\u001b[39;00m, \u001b[38;5;241m*\u001b[39m, file_obj\u001b[38;5;241m=\u001b[39m\u001b[38;5;28;01mNone\u001b[39;00m, url\u001b[38;5;241m=\u001b[39m\u001b[38;5;28;01mNone\u001b[39;00m, dpi\u001b[38;5;241m=\u001b[39m\u001b[38;5;241m96\u001b[39m,\n\u001b[1;32m     52\u001b[0m             parent_width\u001b[38;5;241m=\u001b[39m\u001b[38;5;28;01mNone\u001b[39;00m, parent_height\u001b[38;5;241m=\u001b[39m\u001b[38;5;28;01mNone\u001b[39;00m, scale\u001b[38;5;241m=\u001b[39m\u001b[38;5;241m1\u001b[39m, unsafe\u001b[38;5;241m=\u001b[39m\u001b[38;5;28;01mFalse\u001b[39;00m,\n\u001b[1;32m     53\u001b[0m             background_color\u001b[38;5;241m=\u001b[39m\u001b[38;5;28;01mNone\u001b[39;00m, negate_colors\u001b[38;5;241m=\u001b[39m\u001b[38;5;28;01mFalse\u001b[39;00m, invert_images\u001b[38;5;241m=\u001b[39m\u001b[38;5;28;01mFalse\u001b[39;00m,\n\u001b[1;32m     54\u001b[0m             write_to\u001b[38;5;241m=\u001b[39m\u001b[38;5;28;01mNone\u001b[39;00m, output_width\u001b[38;5;241m=\u001b[39m\u001b[38;5;28;01mNone\u001b[39;00m, output_height\u001b[38;5;241m=\u001b[39m\u001b[38;5;28;01mNone\u001b[39;00m):\n\u001b[0;32m---> 55\u001b[0m     \u001b[38;5;28;01mreturn\u001b[39;00m \u001b[43msurface\u001b[49m\u001b[38;5;241;43m.\u001b[39;49m\u001b[43mPNGSurface\u001b[49m\u001b[38;5;241;43m.\u001b[39;49m\u001b[43mconvert\u001b[49m\u001b[43m(\u001b[49m\n\u001b[1;32m     56\u001b[0m \u001b[43m        \u001b[49m\u001b[43mbytestring\u001b[49m\u001b[38;5;241;43m=\u001b[39;49m\u001b[43mbytestring\u001b[49m\u001b[43m,\u001b[49m\u001b[43m \u001b[49m\u001b[43mfile_obj\u001b[49m\u001b[38;5;241;43m=\u001b[39;49m\u001b[43mfile_obj\u001b[49m\u001b[43m,\u001b[49m\u001b[43m \u001b[49m\u001b[43murl\u001b[49m\u001b[38;5;241;43m=\u001b[39;49m\u001b[43murl\u001b[49m\u001b[43m,\u001b[49m\u001b[43m \u001b[49m\u001b[43mdpi\u001b[49m\u001b[38;5;241;43m=\u001b[39;49m\u001b[43mdpi\u001b[49m\u001b[43m,\u001b[49m\n\u001b[1;32m     57\u001b[0m \u001b[43m        \u001b[49m\u001b[43mparent_width\u001b[49m\u001b[38;5;241;43m=\u001b[39;49m\u001b[43mparent_width\u001b[49m\u001b[43m,\u001b[49m\u001b[43m \u001b[49m\u001b[43mparent_height\u001b[49m\u001b[38;5;241;43m=\u001b[39;49m\u001b[43mparent_height\u001b[49m\u001b[43m,\u001b[49m\u001b[43m \u001b[49m\u001b[43mscale\u001b[49m\u001b[38;5;241;43m=\u001b[39;49m\u001b[43mscale\u001b[49m\u001b[43m,\u001b[49m\n\u001b[1;32m     58\u001b[0m \u001b[43m        \u001b[49m\u001b[43mbackground_color\u001b[49m\u001b[38;5;241;43m=\u001b[39;49m\u001b[43mbackground_color\u001b[49m\u001b[43m,\u001b[49m\u001b[43m \u001b[49m\u001b[43mnegate_colors\u001b[49m\u001b[38;5;241;43m=\u001b[39;49m\u001b[43mnegate_colors\u001b[49m\u001b[43m,\u001b[49m\n\u001b[1;32m     59\u001b[0m \u001b[43m        \u001b[49m\u001b[43minvert_images\u001b[49m\u001b[38;5;241;43m=\u001b[39;49m\u001b[43minvert_images\u001b[49m\u001b[43m,\u001b[49m\u001b[43m \u001b[49m\u001b[43munsafe\u001b[49m\u001b[38;5;241;43m=\u001b[39;49m\u001b[43munsafe\u001b[49m\u001b[43m,\u001b[49m\u001b[43m \u001b[49m\u001b[43mwrite_to\u001b[49m\u001b[38;5;241;43m=\u001b[39;49m\u001b[43mwrite_to\u001b[49m\u001b[43m,\u001b[49m\n\u001b[1;32m     60\u001b[0m \u001b[43m        \u001b[49m\u001b[43moutput_width\u001b[49m\u001b[38;5;241;43m=\u001b[39;49m\u001b[43moutput_width\u001b[49m\u001b[43m,\u001b[49m\u001b[43m \u001b[49m\u001b[43moutput_height\u001b[49m\u001b[38;5;241;43m=\u001b[39;49m\u001b[43moutput_height\u001b[49m\u001b[43m)\u001b[49m\n",
      "File \u001b[0;32m~/bbsw/.venv/lib/python3.12/site-packages/cairosvg/surface.py:129\u001b[0m, in \u001b[0;36mSurface.convert\u001b[0;34m(cls, bytestring, file_obj, url, dpi, parent_width, parent_height, scale, unsafe, background_color, negate_colors, invert_images, write_to, output_width, output_height, **kwargs)\u001b[0m\n\u001b[1;32m     96\u001b[0m \u001b[38;5;129m@classmethod\u001b[39m\n\u001b[1;32m     97\u001b[0m \u001b[38;5;28;01mdef\u001b[39;00m \u001b[38;5;21mconvert\u001b[39m(\u001b[38;5;28mcls\u001b[39m, bytestring\u001b[38;5;241m=\u001b[39m\u001b[38;5;28;01mNone\u001b[39;00m, \u001b[38;5;241m*\u001b[39m, file_obj\u001b[38;5;241m=\u001b[39m\u001b[38;5;28;01mNone\u001b[39;00m, url\u001b[38;5;241m=\u001b[39m\u001b[38;5;28;01mNone\u001b[39;00m, dpi\u001b[38;5;241m=\u001b[39m\u001b[38;5;241m96\u001b[39m,\n\u001b[1;32m     98\u001b[0m             parent_width\u001b[38;5;241m=\u001b[39m\u001b[38;5;28;01mNone\u001b[39;00m, parent_height\u001b[38;5;241m=\u001b[39m\u001b[38;5;28;01mNone\u001b[39;00m, scale\u001b[38;5;241m=\u001b[39m\u001b[38;5;241m1\u001b[39m, unsafe\u001b[38;5;241m=\u001b[39m\u001b[38;5;28;01mFalse\u001b[39;00m,\n\u001b[1;32m     99\u001b[0m             background_color\u001b[38;5;241m=\u001b[39m\u001b[38;5;28;01mNone\u001b[39;00m, negate_colors\u001b[38;5;241m=\u001b[39m\u001b[38;5;28;01mFalse\u001b[39;00m,\n\u001b[1;32m    100\u001b[0m             invert_images\u001b[38;5;241m=\u001b[39m\u001b[38;5;28;01mFalse\u001b[39;00m, write_to\u001b[38;5;241m=\u001b[39m\u001b[38;5;28;01mNone\u001b[39;00m, output_width\u001b[38;5;241m=\u001b[39m\u001b[38;5;28;01mNone\u001b[39;00m,\n\u001b[1;32m    101\u001b[0m             output_height\u001b[38;5;241m=\u001b[39m\u001b[38;5;28;01mNone\u001b[39;00m, \u001b[38;5;241m*\u001b[39m\u001b[38;5;241m*\u001b[39mkwargs):\n\u001b[1;32m    102\u001b[0m \u001b[38;5;250m    \u001b[39m\u001b[38;5;124;03m\"\"\"Convert an SVG document to the format for this class.\u001b[39;00m\n\u001b[1;32m    103\u001b[0m \n\u001b[1;32m    104\u001b[0m \u001b[38;5;124;03m    Specify the input by passing one of these:\u001b[39;00m\n\u001b[0;32m   (...)\u001b[0m\n\u001b[1;32m    127\u001b[0m \n\u001b[1;32m    128\u001b[0m \u001b[38;5;124;03m    \"\"\"\u001b[39;00m\n\u001b[0;32m--> 129\u001b[0m     tree \u001b[38;5;241m=\u001b[39m \u001b[43mTree\u001b[49m\u001b[43m(\u001b[49m\n\u001b[1;32m    130\u001b[0m \u001b[43m        \u001b[49m\u001b[43mbytestring\u001b[49m\u001b[38;5;241;43m=\u001b[39;49m\u001b[43mbytestring\u001b[49m\u001b[43m,\u001b[49m\u001b[43m \u001b[49m\u001b[43mfile_obj\u001b[49m\u001b[38;5;241;43m=\u001b[39;49m\u001b[43mfile_obj\u001b[49m\u001b[43m,\u001b[49m\u001b[43m \u001b[49m\u001b[43murl\u001b[49m\u001b[38;5;241;43m=\u001b[39;49m\u001b[43murl\u001b[49m\u001b[43m,\u001b[49m\u001b[43m \u001b[49m\u001b[43munsafe\u001b[49m\u001b[38;5;241;43m=\u001b[39;49m\u001b[43munsafe\u001b[49m\u001b[43m,\u001b[49m\n\u001b[1;32m    131\u001b[0m \u001b[43m        \u001b[49m\u001b[38;5;241;43m*\u001b[39;49m\u001b[38;5;241;43m*\u001b[39;49m\u001b[43mkwargs\u001b[49m\u001b[43m)\u001b[49m\n\u001b[1;32m    132\u001b[0m     output \u001b[38;5;241m=\u001b[39m write_to \u001b[38;5;129;01mor\u001b[39;00m io\u001b[38;5;241m.\u001b[39mBytesIO()\n\u001b[1;32m    133\u001b[0m     instance \u001b[38;5;241m=\u001b[39m \u001b[38;5;28mcls\u001b[39m(\n\u001b[1;32m    134\u001b[0m         tree, output, dpi, \u001b[38;5;28;01mNone\u001b[39;00m, parent_width, parent_height, scale,\n\u001b[1;32m    135\u001b[0m         output_width, output_height, background_color,\n\u001b[1;32m    136\u001b[0m         map_rgba\u001b[38;5;241m=\u001b[39mnegate_color \u001b[38;5;28;01mif\u001b[39;00m negate_colors \u001b[38;5;28;01melse\u001b[39;00m \u001b[38;5;28;01mNone\u001b[39;00m,\n\u001b[1;32m    137\u001b[0m         map_image\u001b[38;5;241m=\u001b[39minvert_image \u001b[38;5;28;01mif\u001b[39;00m invert_images \u001b[38;5;28;01melse\u001b[39;00m \u001b[38;5;28;01mNone\u001b[39;00m)\n",
      "File \u001b[0;32m~/bbsw/.venv/lib/python3.12/site-packages/cairosvg/parser.py:390\u001b[0m, in \u001b[0;36mTree.__init__\u001b[0;34m(self, **kwargs)\u001b[0m\n\u001b[1;32m    388\u001b[0m     \u001b[38;5;28;01mif\u001b[39;00m \u001b[38;5;28mlen\u001b[39m(bytestring) \u001b[38;5;241m>\u001b[39m\u001b[38;5;241m=\u001b[39m \u001b[38;5;241m2\u001b[39m \u001b[38;5;129;01mand\u001b[39;00m bytestring[:\u001b[38;5;241m2\u001b[39m] \u001b[38;5;241m==\u001b[39m \u001b[38;5;124mb\u001b[39m\u001b[38;5;124m'\u001b[39m\u001b[38;5;130;01m\\x1f\u001b[39;00m\u001b[38;5;130;01m\\x8b\u001b[39;00m\u001b[38;5;124m'\u001b[39m:\n\u001b[1;32m    389\u001b[0m         bytestring \u001b[38;5;241m=\u001b[39m gzip\u001b[38;5;241m.\u001b[39mdecompress(bytestring)\n\u001b[0;32m--> 390\u001b[0m     tree \u001b[38;5;241m=\u001b[39m \u001b[43mElementTree\u001b[49m\u001b[38;5;241;43m.\u001b[39;49m\u001b[43mfromstring\u001b[49m\u001b[43m(\u001b[49m\n\u001b[1;32m    391\u001b[0m \u001b[43m        \u001b[49m\u001b[43mbytestring\u001b[49m\u001b[43m,\u001b[49m\u001b[43m \u001b[49m\u001b[43mforbid_entities\u001b[49m\u001b[38;5;241;43m=\u001b[39;49m\u001b[38;5;129;43;01mnot\u001b[39;49;00m\u001b[43m \u001b[49m\u001b[43munsafe\u001b[49m\u001b[43m,\u001b[49m\n\u001b[1;32m    392\u001b[0m \u001b[43m        \u001b[49m\u001b[43mforbid_external\u001b[49m\u001b[38;5;241;43m=\u001b[39;49m\u001b[38;5;129;43;01mnot\u001b[39;49;00m\u001b[43m \u001b[49m\u001b[43munsafe\u001b[49m\u001b[43m)\u001b[49m\n\u001b[1;32m    394\u001b[0m \u001b[38;5;66;03m# Don’t allow fetching external files unless explicitly asked for\u001b[39;00m\n\u001b[1;32m    395\u001b[0m \u001b[38;5;28;01mif\u001b[39;00m \u001b[38;5;124m'\u001b[39m\u001b[38;5;124murl_fetcher\u001b[39m\u001b[38;5;124m'\u001b[39m \u001b[38;5;129;01mnot\u001b[39;00m \u001b[38;5;129;01min\u001b[39;00m kwargs \u001b[38;5;129;01mand\u001b[39;00m \u001b[38;5;129;01mnot\u001b[39;00m unsafe:\n",
      "File \u001b[0;32m~/bbsw/.venv/lib/python3.12/site-packages/defusedxml/common.py:126\u001b[0m, in \u001b[0;36m_generate_etree_functions.<locals>.fromstring\u001b[0;34m(text, forbid_dtd, forbid_entities, forbid_external)\u001b[0m\n\u001b[1;32m    119\u001b[0m \u001b[38;5;28;01mdef\u001b[39;00m \u001b[38;5;21mfromstring\u001b[39m(text, forbid_dtd\u001b[38;5;241m=\u001b[39m\u001b[38;5;28;01mFalse\u001b[39;00m, forbid_entities\u001b[38;5;241m=\u001b[39m\u001b[38;5;28;01mTrue\u001b[39;00m, forbid_external\u001b[38;5;241m=\u001b[39m\u001b[38;5;28;01mTrue\u001b[39;00m):\n\u001b[1;32m    120\u001b[0m     parser \u001b[38;5;241m=\u001b[39m DefusedXMLParser(\n\u001b[1;32m    121\u001b[0m         target\u001b[38;5;241m=\u001b[39m_TreeBuilder(),\n\u001b[1;32m    122\u001b[0m         forbid_dtd\u001b[38;5;241m=\u001b[39mforbid_dtd,\n\u001b[1;32m    123\u001b[0m         forbid_entities\u001b[38;5;241m=\u001b[39mforbid_entities,\n\u001b[1;32m    124\u001b[0m         forbid_external\u001b[38;5;241m=\u001b[39mforbid_external,\n\u001b[1;32m    125\u001b[0m     )\n\u001b[0;32m--> 126\u001b[0m     \u001b[43mparser\u001b[49m\u001b[38;5;241;43m.\u001b[39;49m\u001b[43mfeed\u001b[49m\u001b[43m(\u001b[49m\u001b[43mtext\u001b[49m\u001b[43m)\u001b[49m\n\u001b[1;32m    127\u001b[0m     \u001b[38;5;28;01mreturn\u001b[39;00m parser\u001b[38;5;241m.\u001b[39mclose()\n",
      "File \u001b[0;32m/usr/lib/python3.12/xml/etree/ElementTree.py:1706\u001b[0m, in \u001b[0;36mXMLParser.feed\u001b[0;34m(self, data)\u001b[0m\n\u001b[1;32m   1704\u001b[0m \u001b[38;5;250m\u001b[39m\u001b[38;5;124;03m\"\"\"Feed encoded data to parser.\"\"\"\u001b[39;00m\n\u001b[1;32m   1705\u001b[0m \u001b[38;5;28;01mtry\u001b[39;00m:\n\u001b[0;32m-> 1706\u001b[0m     \u001b[38;5;28;43mself\u001b[39;49m\u001b[38;5;241;43m.\u001b[39;49m\u001b[43mparser\u001b[49m\u001b[38;5;241;43m.\u001b[39;49m\u001b[43mParse\u001b[49m\u001b[43m(\u001b[49m\u001b[43mdata\u001b[49m\u001b[43m,\u001b[49m\u001b[43m \u001b[49m\u001b[38;5;28;43;01mFalse\u001b[39;49;00m\u001b[43m)\u001b[49m\n\u001b[1;32m   1707\u001b[0m \u001b[38;5;28;01mexcept\u001b[39;00m \u001b[38;5;28mself\u001b[39m\u001b[38;5;241m.\u001b[39m_error \u001b[38;5;28;01mas\u001b[39;00m v:\n\u001b[1;32m   1708\u001b[0m     \u001b[38;5;28mself\u001b[39m\u001b[38;5;241m.\u001b[39m_raiseerror(v)\n",
      "File \u001b[0;32m../Modules/pyexpat.c:497\u001b[0m, in \u001b[0;36mEntityDecl\u001b[0;34m()\u001b[0m\n",
      "File \u001b[0;32m~/bbsw/.venv/lib/python3.12/site-packages/defusedxml/ElementTree.py:124\u001b[0m, in \u001b[0;36mDefusedXMLParser.defused_entity_decl\u001b[0;34m(self, name, is_parameter_entity, value, base, sysid, pubid, notation_name)\u001b[0m\n\u001b[1;32m    121\u001b[0m \u001b[38;5;28;01mdef\u001b[39;00m \u001b[38;5;21mdefused_entity_decl\u001b[39m(\n\u001b[1;32m    122\u001b[0m     \u001b[38;5;28mself\u001b[39m, name, is_parameter_entity, value, base, sysid, pubid, notation_name\n\u001b[1;32m    123\u001b[0m ):\n\u001b[0;32m--> 124\u001b[0m     \u001b[38;5;28;01mraise\u001b[39;00m EntitiesForbidden(name, value, base, sysid, pubid, notation_name)\n",
      "\u001b[0;31mEntitiesForbidden\u001b[0m: EntitiesForbidden(name='ns_flows', system_id=None, public_id=None)"
     ]
    }
   ],
   "source": [
    "import requests\n",
    "import cairosvg\n",
    "\n",
    "# URL of the SVG file\n",
    "svg_url = \"https://eparts-images.toyota.com/82H491A.SVG\"\n",
    "\n",
    "# Download the SVG file\n",
    "response = requests.get(svg_url)\n",
    "svg_content = response.content\n",
    "\n",
    "# Save the SVG content to a local file\n",
    "svg_file = \"input_image.svg\"\n",
    "with open(svg_file, \"wb\") as file:\n",
    "    file.write(svg_content)\n",
    "\n",
    "# Convert the SVG file to PNG using cairosvg\n",
    "output_file = \"output_image.png\"\n",
    "cairosvg.svg2png(url=svg_file, write_to=output_file)\n",
    "\n",
    "print(f\"SVG file has been converted to {output_file}\")\n"
   ]
  },
  {
   "cell_type": "code",
   "execution_count": null,
   "metadata": {},
   "outputs": [],
   "source": []
  }
 ],
 "metadata": {
  "kernelspec": {
   "display_name": ".venv",
   "language": "python",
   "name": "python3"
  },
  "language_info": {
   "codemirror_mode": {
    "name": "ipython",
    "version": 3
   },
   "file_extension": ".py",
   "mimetype": "text/x-python",
   "name": "python",
   "nbconvert_exporter": "python",
   "pygments_lexer": "ipython3",
   "version": "3.12.3"
  }
 },
 "nbformat": 4,
 "nbformat_minor": 2
}
