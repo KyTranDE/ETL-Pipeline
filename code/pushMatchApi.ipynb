{
 "cells": [
  {
   "cell_type": "code",
   "execution_count": 4,
   "metadata": {},
   "outputs": [
    {
     "name": "stdout",
     "output_type": "stream",
     "text": [
      "200 {\"matchs\":[{\"id\":9029,\"home_team_id\":\"BAL\",\"away_team_id\":\"NYY\",\"status\":\"Final\",\"home_team_score\":6,\"away_team_score\":5,\"live_home_team_score\":6,\"live_away_team_score\":5,\"home_team_spread\":1.5,\"away_team_spread\":-1.5,\"point_total\":9.0,\"date_id\":340,\"kickoff_time\":\"2024-07-14T11:35:00\",\"sport_id\":\"mlb\"}]}\n",
      "200 {\"matchs\":[{\"id\":9028,\"home_team_id\":\"BOS\",\"away_team_id\":\"KC\",\"status\":\"Final\",\"home_team_score\":5,\"away_team_score\":4,\"live_home_team_score\":5,\"live_away_team_score\":4,\"home_team_spread\":-1.5,\"away_team_spread\":1.5,\"point_total\":9.5,\"date_id\":340,\"kickoff_time\":\"2024-07-14T13:35:00\",\"sport_id\":\"mlb\"}]}\n",
      "200 {\"matchs\":[{\"id\":9030,\"home_team_id\":\"PHI\",\"away_team_id\":\"OAK\",\"status\":\"Final\",\"home_team_score\":3,\"away_team_score\":18,\"live_home_team_score\":3,\"live_away_team_score\":18,\"home_team_spread\":-1.5,\"away_team_spread\":1.5,\"point_total\":10.0,\"date_id\":340,\"kickoff_time\":\"2024-07-14T13:35:00\",\"sport_id\":\"mlb\"}]}\n",
      "200 {\"matchs\":[{\"id\":9031,\"home_team_id\":\"TB\",\"away_team_id\":\"CLE\",\"status\":\"Final\",\"home_team_score\":2,\"away_team_score\":0,\"live_home_team_score\":2,\"live_away_team_score\":0,\"home_team_spread\":-1.5,\"away_team_spread\":1.5,\"point_total\":7.5,\"date_id\":340,\"kickoff_time\":\"2024-07-14T13:40:00\",\"sport_id\":\"mlb\"}]}\n",
      "200 {\"matchs\":[{\"id\":9032,\"home_team_id\":\"NYM\",\"away_team_id\":\"COL\",\"status\":\"Final\",\"home_team_score\":5,\"away_team_score\":8,\"live_home_team_score\":5,\"live_away_team_score\":8,\"home_team_spread\":-1.5,\"away_team_spread\":1.5,\"point_total\":8.0,\"date_id\":340,\"kickoff_time\":\"2024-07-14T13:40:00\",\"sport_id\":\"mlb\"}]}\n",
      "200 {\"matchs\":[{\"id\":9033,\"home_team_id\":\"DET\",\"away_team_id\":\"LAD\",\"status\":\"Final\",\"home_team_score\":4,\"away_team_score\":3,\"live_home_team_score\":4,\"live_away_team_score\":3,\"home_team_spread\":1.5,\"away_team_spread\":-1.5,\"point_total\":9.0,\"date_id\":340,\"kickoff_time\":\"2024-07-14T13:40:00\",\"sport_id\":\"mlb\"}]}\n",
      "200 {\"matchs\":[{\"id\":9034,\"home_team_id\":\"CIN\",\"away_team_id\":\"MIA\",\"status\":\"Final\",\"home_team_score\":2,\"away_team_score\":3,\"live_home_team_score\":2,\"live_away_team_score\":3,\"home_team_spread\":-1.5,\"away_team_spread\":1.5,\"point_total\":9.0,\"date_id\":340,\"kickoff_time\":\"2024-07-14T13:40:00\",\"sport_id\":\"mlb\"}]}\n",
      "200 {\"matchs\":[{\"id\":9035,\"home_team_id\":\"CHW\",\"away_team_id\":\"PIT\",\"status\":\"Final\",\"home_team_score\":4,\"away_team_score\":9,\"live_home_team_score\":4,\"live_away_team_score\":9,\"home_team_spread\":1.5,\"away_team_spread\":-1.5,\"point_total\":8.5,\"date_id\":340,\"kickoff_time\":\"2024-07-14T14:10:00\",\"sport_id\":\"mlb\"}]}\n",
      "200 {\"matchs\":[{\"id\":9036,\"home_team_id\":\"HOU\",\"away_team_id\":\"TEX\",\"status\":\"Final\",\"home_team_score\":2,\"away_team_score\":4,\"live_home_team_score\":2,\"live_away_team_score\":4,\"home_team_spread\":-1.5,\"away_team_spread\":1.5,\"point_total\":8.0,\"date_id\":340,\"kickoff_time\":\"2024-07-14T14:10:00\",\"sport_id\":\"mlb\"}]}\n",
      "200 {\"matchs\":[{\"id\":9037,\"home_team_id\":\"MIL\",\"away_team_id\":\"WSH\",\"status\":\"Final\",\"home_team_score\":9,\"away_team_score\":3,\"live_home_team_score\":9,\"live_away_team_score\":3,\"home_team_spread\":-1.5,\"away_team_spread\":1.5,\"point_total\":9.0,\"date_id\":340,\"kickoff_time\":\"2024-07-14T14:10:00\",\"sport_id\":\"mlb\"}]}\n",
      "200 {\"matchs\":[{\"id\":9038,\"home_team_id\":\"STL\",\"away_team_id\":\"CHC\",\"status\":\"Final\",\"home_team_score\":3,\"away_team_score\":8,\"live_home_team_score\":3,\"live_away_team_score\":8,\"home_team_spread\":-1.5,\"away_team_spread\":1.5,\"point_total\":8.5,\"date_id\":340,\"kickoff_time\":\"2024-07-14T14:15:00\",\"sport_id\":\"mlb\"}]}\n",
      "200 {\"matchs\":[{\"id\":9039,\"home_team_id\":\"SF\",\"away_team_id\":\"MIN\",\"status\":\"Final\",\"home_team_score\":3,\"away_team_score\":2,\"live_home_team_score\":3,\"live_away_team_score\":2,\"home_team_spread\":-1.5,\"away_team_spread\":1.5,\"point_total\":7.5,\"date_id\":340,\"kickoff_time\":\"2024-07-14T16:05:00\",\"sport_id\":\"mlb\"}]}\n",
      "200 {\"matchs\":[{\"id\":9040,\"home_team_id\":\"LAA\",\"away_team_id\":\"SEA\",\"status\":\"Final\",\"home_team_score\":3,\"away_team_score\":2,\"live_home_team_score\":3,\"live_away_team_score\":2,\"home_team_spread\":1.5,\"away_team_spread\":-1.5,\"point_total\":8.5,\"date_id\":340,\"kickoff_time\":\"2024-07-14T16:07:00\",\"sport_id\":\"mlb\"}]}\n",
      "200 {\"matchs\":[{\"id\":9041,\"home_team_id\":\"SD\",\"away_team_id\":\"ATL\",\"status\":\"Final\",\"home_team_score\":3,\"away_team_score\":6,\"live_home_team_score\":3,\"live_away_team_score\":6,\"home_team_spread\":1.5,\"away_team_spread\":-1.5,\"point_total\":7.0,\"date_id\":340,\"kickoff_time\":\"2024-07-14T16:10:00\",\"sport_id\":\"mlb\"}]}\n",
      "200 {\"matchs\":[{\"id\":9042,\"home_team_id\":\"ARI\",\"away_team_id\":\"TOR\",\"status\":\"Final\",\"home_team_score\":7,\"away_team_score\":8,\"live_home_team_score\":7,\"live_away_team_score\":8,\"home_team_spread\":-1.5,\"away_team_spread\":1.5,\"point_total\":7.5,\"date_id\":340,\"kickoff_time\":\"2024-07-14T16:10:00\",\"sport_id\":\"mlb\"}]}\n"
     ]
    }
   ],
   "source": [
    "import requests\n",
    "\n",
    "datas = [\n",
    "{\"id\": 9029, \"home_team_id\": \"BAL\", \"away_team_id\": \"NYY\", \"status\": \"Final\", \"home_team_score\": 6, \"away_team_score\": 5, \"live_home_team_score\": 6, \"live_away_team_score\": 5, \"home_team_spread\": 1.5, \"away_team_spread\": -1.5, \"point_total\": 9, \"date_id\": 340, \"kickoff_time\": \"2024-07-14T11:35:00\", \"sport_id\": \"mlb\"},\n",
    "{\"id\": 9028, \"home_team_id\": \"BOS\", \"away_team_id\": \"KC\", \"status\": \"Final\", \"home_team_score\": 5, \"away_team_score\": 4, \"live_home_team_score\": 5, \"live_away_team_score\": 4, \"home_team_spread\": -1.5, \"away_team_spread\": 1.5, \"point_total\": 9.5, \"date_id\": 340, \"kickoff_time\": \"2024-07-14T13:35:00\", \"sport_id\": \"mlb\"},\n",
    "{\"id\": 9030, \"home_team_id\": \"PHI\", \"away_team_id\": \"OAK\", \"status\": \"Final\", \"home_team_score\": 3, \"away_team_score\": 18, \"live_home_team_score\": 3, \"live_away_team_score\": 18, \"home_team_spread\": -1.5, \"away_team_spread\": 1.5, \"point_total\": 10, \"date_id\": 340, \"kickoff_time\": \"2024-07-14T13:35:00\", \"sport_id\": \"mlb\"},\n",
    "{\"id\": 9031, \"home_team_id\": \"TB\", \"away_team_id\": \"CLE\", \"status\": \"Final\", \"home_team_score\": 2, \"away_team_score\": 0, \"live_home_team_score\": 2, \"live_away_team_score\": 0, \"home_team_spread\": -1.5, \"away_team_spread\": 1.5, \"point_total\": 7.5, \"date_id\": 340, \"kickoff_time\": \"2024-07-14T13:40:00\", \"sport_id\": \"mlb\"},\n",
    "{\"id\": 9032, \"home_team_id\": \"NYM\", \"away_team_id\": \"COL\", \"status\": \"Final\", \"home_team_score\": 5, \"away_team_score\": 8, \"live_home_team_score\": 5, \"live_away_team_score\": 8, \"home_team_spread\": -1.5, \"away_team_spread\": 1.5, \"point_total\": 8, \"date_id\": 340, \"kickoff_time\": \"2024-07-14T13:40:00\", \"sport_id\": \"mlb\"},\n",
    "{\"id\": 9033, \"home_team_id\": \"DET\", \"away_team_id\": \"LAD\", \"status\": \"Final\", \"home_team_score\": 4, \"away_team_score\": 3, \"live_home_team_score\": 4, \"live_away_team_score\": 3, \"home_team_spread\": 1.5, \"away_team_spread\": -1.5, \"point_total\": 9, \"date_id\": 340, \"kickoff_time\": \"2024-07-14T13:40:00\", \"sport_id\": \"mlb\"},\n",
    "{\"id\": 9034, \"home_team_id\": \"CIN\", \"away_team_id\": \"MIA\", \"status\": \"Final\", \"home_team_score\": 2, \"away_team_score\": 3, \"live_home_team_score\": 2, \"live_away_team_score\": 3, \"home_team_spread\": -1.5, \"away_team_spread\": 1.5, \"point_total\": 9, \"date_id\": 340, \"kickoff_time\": \"2024-07-14T13:40:00\", \"sport_id\": \"mlb\"},\n",
    "{\"id\": 9035, \"home_team_id\": \"CHW\", \"away_team_id\": \"PIT\", \"status\": \"Final\", \"home_team_score\": 4, \"away_team_score\": 9, \"live_home_team_score\": 4, \"live_away_team_score\": 9, \"home_team_spread\": 1.5, \"away_team_spread\": -1.5, \"point_total\": 8.5, \"date_id\": 340, \"kickoff_time\": \"2024-07-14T14:10:00\", \"sport_id\": \"mlb\"},\n",
    "{\"id\": 9036, \"home_team_id\": \"HOU\", \"away_team_id\": \"TEX\", \"status\": \"Final\", \"home_team_score\": 2, \"away_team_score\": 4, \"live_home_team_score\": 2, \"live_away_team_score\": 4, \"home_team_spread\": -1.5, \"away_team_spread\": 1.5, \"point_total\": 8, \"date_id\": 340, \"kickoff_time\": \"2024-07-14T14:10:00\", \"sport_id\": \"mlb\"},\n",
    "{\"id\": 9037, \"home_team_id\": \"MIL\", \"away_team_id\": \"WSH\", \"status\": \"Final\", \"home_team_score\": 9, \"away_team_score\": 3, \"live_home_team_score\": 9, \"live_away_team_score\": 3, \"home_team_spread\": -1.5, \"away_team_spread\": 1.5, \"point_total\": 9, \"date_id\": 340, \"kickoff_time\": \"2024-07-14T14:10:00\", \"sport_id\": \"mlb\"},\n",
    "{\"id\": 9038, \"home_team_id\": \"STL\", \"away_team_id\": \"CHC\", \"status\": \"Final\", \"home_team_score\": 3, \"away_team_score\": 8, \"live_home_team_score\": 3, \"live_away_team_score\": 8, \"home_team_spread\": -1.5, \"away_team_spread\": 1.5, \"point_total\": 8.5, \"date_id\": 340, \"kickoff_time\": \"2024-07-14T14:15:00\", \"sport_id\": \"mlb\"},\n",
    "{\"id\": 9039, \"home_team_id\": \"SF\", \"away_team_id\": \"MIN\", \"status\": \"Final\", \"home_team_score\": 3, \"away_team_score\": 2, \"live_home_team_score\": 3, \"live_away_team_score\": 2, \"home_team_spread\": -1.5, \"away_team_spread\": 1.5, \"point_total\": 7.5, \"date_id\": 340, \"kickoff_time\": \"2024-07-14T16:05:00\", \"sport_id\": \"mlb\"},\n",
    "{\"id\": 9040, \"home_team_id\": \"LAA\", \"away_team_id\": \"SEA\", \"status\": \"Final\", \"home_team_score\": 3, \"away_team_score\": 2, \"live_home_team_score\": 3, \"live_away_team_score\": 2, \"home_team_spread\": 1.5, \"away_team_spread\": -1.5, \"point_total\": 8.5, \"date_id\": 340, \"kickoff_time\": \"2024-07-14T16:07:00\", \"sport_id\": \"mlb\"},\n",
    "{\"id\": 9041, \"home_team_id\": \"SD\", \"away_team_id\": \"ATL\", \"status\": \"Final\", \"home_team_score\": 3, \"away_team_score\": 6, \"live_home_team_score\": 3, \"live_away_team_score\": 6, \"home_team_spread\": 1.5, \"away_team_spread\": -1.5, \"point_total\": 7, \"date_id\": 340, \"kickoff_time\": \"2024-07-14T16:10:00\", \"sport_id\": \"mlb\"},\n",
    "{\"id\": 9042, \"home_team_id\": \"ARI\", \"away_team_id\": \"TOR\", \"status\": \"Final\", \"home_team_score\": 7, \"away_team_score\": 8, \"live_home_team_score\": 7, \"live_away_team_score\": 8, \"home_team_spread\": -1.5, \"away_team_spread\": 1.5, \"point_total\": 7.5, \"date_id\": 340, \"kickoff_time\": \"2024-07-14T16:10:00\", \"sport_id\": \"mlb\"}\n",
    "]\n",
    "\n",
    "for data in datas:\n",
    "    response = requests.post(\"http://ec2-47-128-220-12.ap-southeast-1.compute.amazonaws.com:8070/dbapi/matchs/\", json=[data])\n",
    "    print(response.status_code, response.text)"
   ]
  },
  {
   "cell_type": "code",
   "execution_count": null,
   "metadata": {},
   "outputs": [],
   "source": []
  }
 ],
 "metadata": {
  "kernelspec": {
   "display_name": ".venv",
   "language": "python",
   "name": "python3"
  },
  "language_info": {
   "codemirror_mode": {
    "name": "ipython",
    "version": 3
   },
   "file_extension": ".py",
   "mimetype": "text/x-python",
   "name": "python",
   "nbconvert_exporter": "python",
   "pygments_lexer": "ipython3",
   "version": "3.12.3"
  }
 },
 "nbformat": 4,
 "nbformat_minor": 2
}
